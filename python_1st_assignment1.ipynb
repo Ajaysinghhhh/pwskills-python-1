{
  "nbformat": 4,
  "nbformat_minor": 0,
  "metadata": {
    "colab": {
      "provenance": []
    },
    "kernelspec": {
      "name": "python3",
      "display_name": "Python 3"
    },
    "language_info": {
      "name": "python"
    }
  },
  "cells": [
    {
      "cell_type": "code",
      "execution_count": null,
      "metadata": {
        "id": "ljxjS5nUVrZE"
      },
      "outputs": [],
      "source": [
        "#Q1 Explain the key features of python that make it a popular choice for programming\n",
        "\n",
        "#Ans The key feature of python that make it a popular choice for programming are:-\n",
        "# 1) Easy to code\n",
        "# 2) Easy to learn\n",
        "# 3) Has lots of Libraries\n",
        "# 4) It is widely used\n",
        "# 5) Python is free to use and is supported by community\n",
        "# 6) Python runs on every major platforms currently in use\n",
        "# 7) Python programs run unchanged on most platforms\n",
        "# 8) Python interpreter is avaiable for every major platform"
      ]
    },
    {
      "cell_type": "code",
      "source": [
        "#Q2 Describe the role of predefined keywords in python and provide examples of how they are used in a program\n",
        "# ANS) The role of pre defined keywords are used to define the syntax and structure of the Python language.Keywords are used to define the syntax of the coding.\n",
        "#      We cannot use a keyword as a variable name, function name, or any other identifier.\n",
        "#      All the keywords in Python are written in lowercase except True and False\n",
        "#      Examples:-\n",
        "#      False\tawait\telse\timport\tpass\n",
        "#      None\tbreak\texcept\tin\traise\n",
        "#      True\tclass\tfinally\tis\treturn\n",
        "#      and\tcontinue\tfor\tlambda\ttry\n",
        "#      as\tdef\tfrom\tnonlocal\twhile\n",
        "#      assert\tdel\tglobal\tnot\twith\n",
        "#      async\telif\tif\tor\tyield"
      ],
      "metadata": {
        "id": "zSISNqsKWomR"
      },
      "execution_count": null,
      "outputs": []
    },
    {
      "cell_type": "code",
      "source": [
        "#Q3 Compare and contrast mutable and immutable objects in python with examples\n",
        "#ANS) Mutable objects are those objects whose values can be changed\n",
        "#     Example - List or Dictionaries\n",
        "A = [23,'Sun','Apple', 56.87, True, 32+45j]\n",
        "A[1] = 'Moon'\n",
        "A[5] = 'Earth'\n",
        "A"
      ],
      "metadata": {
        "id": "pLyNFq_8XTsv",
        "colab": {
          "base_uri": "https://localhost:8080/"
        },
        "outputId": "0d94981d-9c20-4984-f0f3-de082dd259f5"
      },
      "execution_count": null,
      "outputs": [
        {
          "output_type": "execute_result",
          "data": {
            "text/plain": [
              "[23, 'Moon', 'Apple', 56.87, True, 'Earth']"
            ]
          },
          "metadata": {},
          "execution_count": 15
        }
      ]
    },
    {
      "cell_type": "code",
      "source": [
        "#   Immutable objects are those objects whose value can not be changed\n",
        "#   Example:- Tuples and Strings\n",
        "B = \"pwskill\"\n",
        "B[3] = 'p'\n",
        "B"
      ],
      "metadata": {
        "colab": {
          "base_uri": "https://localhost:8080/",
          "height": 193
        },
        "id": "-HM06o2A9rR3",
        "outputId": "85dda692-d135-4bf8-c3dd-0d7ee6a43b1a"
      },
      "execution_count": null,
      "outputs": [
        {
          "output_type": "error",
          "ename": "TypeError",
          "evalue": "'str' object does not support item assignment",
          "traceback": [
            "\u001b[0;31m---------------------------------------------------------------------------\u001b[0m",
            "\u001b[0;31mTypeError\u001b[0m                                 Traceback (most recent call last)",
            "\u001b[0;32m<ipython-input-16-0cdec8f2e541>\u001b[0m in \u001b[0;36m<cell line: 4>\u001b[0;34m()\u001b[0m\n\u001b[1;32m      2\u001b[0m \u001b[0;31m#   Example:- Tuples and Strings\u001b[0m\u001b[0;34m\u001b[0m\u001b[0;34m\u001b[0m\u001b[0m\n\u001b[1;32m      3\u001b[0m \u001b[0mB\u001b[0m \u001b[0;34m=\u001b[0m \u001b[0;34m\"pwskill\"\u001b[0m\u001b[0;34m\u001b[0m\u001b[0;34m\u001b[0m\u001b[0m\n\u001b[0;32m----> 4\u001b[0;31m \u001b[0mB\u001b[0m\u001b[0;34m[\u001b[0m\u001b[0;36m3\u001b[0m\u001b[0;34m]\u001b[0m \u001b[0;34m=\u001b[0m \u001b[0;34m'p'\u001b[0m\u001b[0;34m\u001b[0m\u001b[0;34m\u001b[0m\u001b[0m\n\u001b[0m\u001b[1;32m      5\u001b[0m \u001b[0mB\u001b[0m\u001b[0;34m\u001b[0m\u001b[0;34m\u001b[0m\u001b[0m\n",
            "\u001b[0;31mTypeError\u001b[0m: 'str' object does not support item assignment"
          ]
        }
      ]
    },
    {
      "cell_type": "code",
      "source": [
        "#Q4 Discuss the different types of operators in python and provide examples\n",
        "#ANS) 1) Arithmatic Operators:-\n",
        "# Example:- +, -, *, /, %, **\n",
        "a=7\n",
        "b=2\n",
        "a+b"
      ],
      "metadata": {
        "id": "eTZMn-QuXWbX",
        "colab": {
          "base_uri": "https://localhost:8080/"
        },
        "outputId": "7e343c13-6825-43e5-eaf0-2ab1eaf68d79"
      },
      "execution_count": null,
      "outputs": [
        {
          "output_type": "execute_result",
          "data": {
            "text/plain": [
              "9"
            ]
          },
          "metadata": {},
          "execution_count": 1
        }
      ]
    },
    {
      "cell_type": "code",
      "source": [
        "# 2) Comparison Operators:-\n",
        "# Example:- <, >, >=, <=, ==, !=\n",
        "a=111\n",
        "b=145\n",
        "a==b"
      ],
      "metadata": {
        "colab": {
          "base_uri": "https://localhost:8080/"
        },
        "id": "dbWseRg9K9dy",
        "outputId": "56709c5b-998a-42a0-f683-688069bf3955"
      },
      "execution_count": null,
      "outputs": [
        {
          "output_type": "execute_result",
          "data": {
            "text/plain": [
              "False"
            ]
          },
          "metadata": {},
          "execution_count": 4
        }
      ]
    },
    {
      "cell_type": "code",
      "source": [
        "# 3) Logical Operators:-\n",
        "# Example:- and, or\n",
        "a=54\n",
        "b=82\n",
        "(a>25)or(b<90)"
      ],
      "metadata": {
        "colab": {
          "base_uri": "https://localhost:8080/"
        },
        "id": "naBCM3w2LOSx",
        "outputId": "6c5de6ce-bcaa-42dc-e660-5bd4b6a08a2d"
      },
      "execution_count": null,
      "outputs": [
        {
          "output_type": "execute_result",
          "data": {
            "text/plain": [
              "True"
            ]
          },
          "metadata": {},
          "execution_count": 6
        }
      ]
    },
    {
      "cell_type": "code",
      "source": [
        "# 4) Bitwise Operators:-\n",
        "#Example:-AND(&), OR(|), XOR(^), left shift(<<), right shift(>>)\n",
        "a=54\n",
        "b=26\n",
        "a&b"
      ],
      "metadata": {
        "colab": {
          "base_uri": "https://localhost:8080/"
        },
        "id": "GpqrNC_qL8vS",
        "outputId": "08467d3f-a9a1-4e5c-a605-039d8ccd8b85"
      },
      "execution_count": null,
      "outputs": [
        {
          "output_type": "execute_result",
          "data": {
            "text/plain": [
              "18"
            ]
          },
          "metadata": {},
          "execution_count": 7
        }
      ]
    },
    {
      "cell_type": "code",
      "source": [
        "#Q5 Explain the concept of type casting in python with examples\n",
        "#ANS) Type Casting is a method to convert the variable datatype into a different datatype for doing the operation\n",
        "A = 'pwskill'\n",
        "A = list(A)\n",
        "type(A)"
      ],
      "metadata": {
        "id": "4Feh8xXzXXrX",
        "colab": {
          "base_uri": "https://localhost:8080/"
        },
        "outputId": "bc96c45a-bfba-4d2b-b3be-0560a935476f"
      },
      "execution_count": null,
      "outputs": [
        {
          "output_type": "execute_result",
          "data": {
            "text/plain": [
              "list"
            ]
          },
          "metadata": {},
          "execution_count": 2
        }
      ]
    },
    {
      "cell_type": "code",
      "source": [
        "B = [1, 2, 3]\n",
        "B = set(B)\n",
        "type(B)"
      ],
      "metadata": {
        "id": "Ty-qXdj0Rxh6",
        "colab": {
          "base_uri": "https://localhost:8080/"
        },
        "outputId": "ba3d86b9-729a-417b-8743-3220a22e9cc6"
      },
      "execution_count": null,
      "outputs": [
        {
          "output_type": "execute_result",
          "data": {
            "text/plain": [
              "set"
            ]
          },
          "metadata": {},
          "execution_count": 1
        }
      ]
    },
    {
      "cell_type": "code",
      "source": [
        "c = 436.54\n",
        "c = int(c)\n",
        "type(c)"
      ],
      "metadata": {
        "colab": {
          "base_uri": "https://localhost:8080/"
        },
        "id": "rvlV5NXJ5gen",
        "outputId": "b1814e91-5bd6-404d-ca72-24f2d6c4fa55"
      },
      "execution_count": null,
      "outputs": [
        {
          "output_type": "execute_result",
          "data": {
            "text/plain": [
              "int"
            ]
          },
          "metadata": {},
          "execution_count": 10
        }
      ]
    },
    {
      "cell_type": "code",
      "source": [
        "#Q6 How do conditional statements work in python? illustrate with examples\n",
        "#ANS) Conditional statements are statements in python that provide a choice of true or false based on the condition\n",
        "# Examples\n",
        "# if statement\n",
        "Marks = 80\n",
        "if Marks>30:\n",
        "  print('You are Pass')"
      ],
      "metadata": {
        "id": "TWekzPpSXads",
        "colab": {
          "base_uri": "https://localhost:8080/"
        },
        "outputId": "b55abc61-aa8b-4bd3-a17a-bb0f9146f385"
      },
      "execution_count": null,
      "outputs": [
        {
          "output_type": "stream",
          "name": "stdout",
          "text": [
            "You are Pass\n"
          ]
        }
      ]
    },
    {
      "cell_type": "code",
      "source": [
        "# if-else statement\n",
        "Age = 21\n",
        "if Age >= 18:\n",
        "  print(\"You are an adult\")\n",
        "else:\n",
        "  print(\"You are not an adult\")"
      ],
      "metadata": {
        "colab": {
          "base_uri": "https://localhost:8080/"
        },
        "id": "Auj4XzfwAQeY",
        "outputId": "4bc3fb66-c527-4522-e876-09ff7fb83acb"
      },
      "execution_count": null,
      "outputs": [
        {
          "output_type": "stream",
          "name": "stdout",
          "text": [
            "You are an adult\n"
          ]
        }
      ]
    },
    {
      "cell_type": "code",
      "source": [
        "# if-elif else statement\n",
        "num = 65\n",
        "if num>=30 and num<=50:\n",
        "  print(\"Good\")\n",
        "elif num>=51 and num<=70:\n",
        "  print(\"Very good\")\n",
        "elif num>=71 and num<=100:\n",
        "  print(\"Excellent\")\n",
        "else:\n",
        "  print(\"Fail\")"
      ],
      "metadata": {
        "colab": {
          "base_uri": "https://localhost:8080/"
        },
        "id": "gRLq_R7UA7D4",
        "outputId": "a58aa0ea-654e-4251-cafb-3597573f26c0"
      },
      "execution_count": null,
      "outputs": [
        {
          "output_type": "stream",
          "name": "stdout",
          "text": [
            "Very good\n"
          ]
        }
      ]
    },
    {
      "cell_type": "code",
      "source": [
        "#  nested if else statement\n",
        "Age = 34\n",
        "if Age <= 13:\n",
        "    print(\"You are a child\")\n",
        "else:\n",
        "  if Age > 13 and Age < 18:\n",
        "    print(\"You are a teenager\")\n",
        "  else:\n",
        "    print(\"You are an adult\")"
      ],
      "metadata": {
        "colab": {
          "base_uri": "https://localhost:8080/"
        },
        "id": "1ItyW6eDB81T",
        "outputId": "c3a649dd-33fd-4d31-9502-dd2a2c92479c"
      },
      "execution_count": 3,
      "outputs": [
        {
          "output_type": "stream",
          "name": "stdout",
          "text": [
            "You are an adult\n"
          ]
        }
      ]
    },
    {
      "cell_type": "code",
      "source": [
        "#Q7 Describe the different types of loops in python and their use cases with example\n",
        "# -> for loops :-  for loops are used tp iterate over a sequence of elements, such as a list or string.\n",
        "# Example\n",
        "city = ['jaipur', 'kolkata', 'bangalore', 'pune']\n",
        "for i in city:\n",
        "  print(i)"
      ],
      "metadata": {
        "id": "dc5mh1JNXdv7",
        "colab": {
          "base_uri": "https://localhost:8080/"
        },
        "outputId": "b389acec-1c19-4f73-b039-4307f04bc6e0"
      },
      "execution_count": 5,
      "outputs": [
        {
          "output_type": "stream",
          "name": "stdout",
          "text": [
            "jaipur\n",
            "kolkata\n",
            "bangalore\n",
            "pune\n"
          ]
        }
      ]
    },
    {
      "cell_type": "code",
      "source": [
        "# ->  while loops :-  while loops are used to repeat a block of code until a certain condition is met.\n",
        "# Example\n",
        "count = 1\n",
        "while count <= 6:\n",
        "  print(count)\n",
        "  count += 1"
      ],
      "metadata": {
        "colab": {
          "base_uri": "https://localhost:8080/"
        },
        "id": "48mI_UFMLA6c",
        "outputId": "028fc0e1-95aa-418f-90e5-ecab6dee056a"
      },
      "execution_count": 17,
      "outputs": [
        {
          "output_type": "stream",
          "name": "stdout",
          "text": [
            "1\n",
            "2\n",
            "3\n",
            "4\n",
            "5\n",
            "6\n"
          ]
        }
      ]
    }
  ]
}