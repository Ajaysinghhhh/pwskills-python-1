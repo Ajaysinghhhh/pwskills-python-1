{
  "nbformat": 4,
  "nbformat_minor": 0,
  "metadata": {
    "colab": {
      "provenance": []
    },
    "kernelspec": {
      "name": "python3",
      "display_name": "Python 3"
    },
    "language_info": {
      "name": "python"
    }
  },
  "cells": [
    {
      "cell_type": "code",
      "source": [
        "# Theoretical Questions :-"
      ],
      "metadata": {
        "id": "1BoAx2zzeo6o"
      },
      "execution_count": null,
      "outputs": []
    },
    {
      "cell_type": "code",
      "execution_count": 1,
      "metadata": {
        "id": "J_cesnV5dmDE"
      },
      "outputs": [],
      "source": [
        "#Q1 Explain the purpose and advantages of NumPy in scientific computing and data analysis. How does itenhance Python's capabilities for numerical operations?\n",
        "# Ans. NumPy enhances Python's capabilities for scientific computing and data analysis by providing efficient, multidimensional array objects (ndarrays) and\n",
        "# functions for performing high-performance numerical operations. It supports element-wise operations, matrix manipulations, and complex mathematical functions, making\n",
        "# it much faster than standard Python lists for large datasets. NumPy also integrates well with other libraries, enabling seamless data processing and analysis workflows.\n",
        "# Its array-based computing reduces memory usage and computational time, making it a fundamental tool for data science and scientific applications."
      ]
    },
    {
      "cell_type": "code",
      "source": [
        "#Q2 Compare and contrast np.mean() and np.average() functions in NumPy. When would you use one over the other?\n",
        "# Ans. In NumPy, np.mean() and np.average() both calculate the average of an array, but they have key differences:\n",
        "# mean():- Calculate the simple arethmatic, treating all elements equally.\n",
        "# average():- Allows specifying weights, so some elements contribute more to the average than others.\n",
        "# When to use:\n",
        "# np.mean() is used when all elements are equally important.\n",
        "# np.average() is useful when you need a weighted average, where certain values have more significance.\n",
        "# Example:-\n",
        "import numpy as np\n",
        "arr=np.array([1,2,3,4])\n",
        "mean_array=np.mean(arr)\n",
        "\n",
        "weights = np.array([1, 2, 3, 4])\n",
        "average_array = np.average(arr, weights=weights)\n",
        "print(mean_array)\n",
        "print(average_array)"
      ],
      "metadata": {
        "id": "K9Zmm2dud5-p",
        "colab": {
          "base_uri": "https://localhost:8080/"
        },
        "outputId": "e07ac4b1-db5d-497d-c770-839f123cf5a1"
      },
      "execution_count": 2,
      "outputs": [
        {
          "output_type": "stream",
          "name": "stdout",
          "text": [
            "2.5\n",
            "3.0\n"
          ]
        }
      ]
    },
    {
      "cell_type": "code",
      "source": [
        "#Q3 Describe the methods for reversing a NumPy array along different axes. Provide examples for 1D and 2D arrays.\n",
        "# In NumPy, you can reverse arrays along different axes using slicing or the np.flip() function. These methods allow for reversing arrays in different dimensions\n",
        "# (1D, 2D, etc.).\n",
        "\n",
        "# 1. Reversing a 1D Array\n",
        "# Method 1: Using slicing: [::-1] will reverse the array.\n",
        "# Method 2: Using np.flip(): This function can flip the array along a specified axis.\n",
        "# Example (1D array):\n",
        "\n",
        "# 1-D array\n",
        "arr_1d=np.array([1,2,3,4,5])\n",
        "# using slicing\n",
        "reverse_1d_slice= arr_1d[::-1]\n",
        "\n",
        "# using flip()\n",
        "reverse_1d_flip=np.flip(arr_1d)\n",
        "\n",
        "print(reverse_1d_slice)\n",
        "print(reverse_1d_flip)"
      ],
      "metadata": {
        "id": "Y7xRhjGreEee",
        "colab": {
          "base_uri": "https://localhost:8080/"
        },
        "outputId": "c464e1f9-7191-44eb-9ff9-017fa688a209"
      },
      "execution_count": 3,
      "outputs": [
        {
          "output_type": "stream",
          "name": "stdout",
          "text": [
            "[5 4 3 2 1]\n",
            "[5 4 3 2 1]\n"
          ]
        }
      ]
    },
    {
      "cell_type": "code",
      "source": [
        "# 2. Reversing a 2D Array\n",
        "# For 2D arrays, you can reverse rows, columns, or both.\n",
        "\n",
        "# Method 1: Using slicing:\n",
        "\n",
        "# [::-1, :] reverses rows.\n",
        "# [:, ::-1] reverses columns.\n",
        "# [::-1, ::-1] reverses both rows and columns.\n",
        "# Method 2: Using np.flip():\n",
        "\n",
        "# np.flip(arr, axis=0) reverses along rows.\n",
        "# np.flip(arr, axis=1) reverses along columns.\n",
        "# np.flip(arr) reverses both rows and columns.\n",
        "# Example (2D array):\n",
        "arr_2d = np.array([[1, 2, 3],\n",
        "                   [4, 5, 6],\n",
        "                   [7, 8, 9]])\n",
        "\n",
        "# Reverse rows (along axis 0)\n",
        "reversed_rows_slice = arr_2d[::-1, :]\n",
        "reversed_rows_flip = np.flip(arr_2d, axis=0)\n",
        "\n",
        "# Reverse columns (along axis 1)\n",
        "reversed_cols_slice = arr_2d[:, ::-1]\n",
        "reversed_cols_flip = np.flip(arr_2d, axis=1)\n",
        "\n",
        "# Reverse both rows and columns\n",
        "reversed_both_slice = arr_2d[::-1, ::-1]\n",
        "reversed_both_flip = np.flip(arr_2d)\n",
        "\n",
        "print(reversed_rows_slice)\n",
        "print(reversed_cols_slice)"
      ],
      "metadata": {
        "colab": {
          "base_uri": "https://localhost:8080/"
        },
        "id": "3Kdfjs1zc3Ka",
        "outputId": "a8cb6302-2e14-4619-d24a-127d1c594c50"
      },
      "execution_count": 4,
      "outputs": [
        {
          "output_type": "stream",
          "name": "stdout",
          "text": [
            "[[7 8 9]\n",
            " [4 5 6]\n",
            " [1 2 3]]\n",
            "[[3 2 1]\n",
            " [6 5 4]\n",
            " [9 8 7]]\n"
          ]
        }
      ]
    },
    {
      "cell_type": "code",
      "source": [
        "#Q4 How can you determine the data type of elements in a NumPy array? Discuss the importance of data types in memory management and performance.\n",
        "# Creating an array\n",
        "arr = np.array([1, 2, 3])\n",
        "\n",
        "# Determining the data type\n",
        "print(arr.dtype)"
      ],
      "metadata": {
        "id": "RYiCzkj3eGyO",
        "colab": {
          "base_uri": "https://localhost:8080/"
        },
        "outputId": "04e73112-0a70-42d2-a270-19322167194c"
      },
      "execution_count": 5,
      "outputs": [
        {
          "output_type": "stream",
          "name": "stdout",
          "text": [
            "int64\n"
          ]
        }
      ]
    },
    {
      "cell_type": "code",
      "source": [
        "# Importance of Data Types in Memory Management and Performance:\n",
        "# Memory Efficiency: NumPy arrays use fixed-size data types, unlike Python lists, which store objects. This allows for more compact memory storage, especially when using\n",
        "# smaller data types (e.g., int8 vs int64), reducing the memory footprint for large datasets.\n",
        "\n",
        "# Performance: Fixed-size data types allow NumPy to perform operations in contiguous memory blocks, leading to faster computation compared to dynamically typed Python\n",
        "# lists. Operations on NumPy arrays are highly optimized for performance, especially in large-scale numerical tasks.\n",
        "\n",
        "# Selecting the appropriate data type is essential for balancing memory usage and computational speed."
      ],
      "metadata": {
        "id": "xXpPnJt9dCXB"
      },
      "execution_count": 6,
      "outputs": []
    },
    {
      "cell_type": "code",
      "source": [
        "#Q5 Define ndarrays in NumPy and explain their key features. How do they differ from standard Python lists?\n",
        "# An ndarray (N-dimensional array) in NumPy is a multidimensional, homogeneous data structure used for numerical computations. It is the core data type in NumPy.\n",
        "\n",
        "# ### Key Features of ndarrays:\n",
        "# 1. Homogeneous: All elements in the array must be of the same data type (e.g., `int`, `float`).\n",
        "# 2. Multidimensional: Supports arrays of any dimension (1D, 2D, 3D, etc.), allowing for complex data structures like matrices.\n",
        "# 3. Fixed Size: The size of an ndarray is fixed at the time of creation, making them more memory efficient.\n",
        "# 4. Vectorized Operations: Supports element-wise operations and broadcasting, making computations faster.\n",
        "# 5. Efficient Memory Layout: Data is stored in contiguous memory blocks, allowing for faster access and manipulation.\n",
        "\n",
        "# ### Differences from Python Lists:\n",
        "# - Data Type: Lists can contain mixed data types, while ndarrays are homogeneous.\n",
        "# - Performance: ndarrays are faster and more memory-efficient due to fixed size and contiguous memory storage.\n",
        "# - Operations: ndarrays support vectorized operations (e.g., element-wise addition), whereas lists require loops or manual iteration for such operations.\n",
        "\n",
        "# In short, ndarrays are optimized for numerical operations, making them superior for scientific computing compared to Python lists.\n",
        "\n",
        "# Example:\n",
        "import numpy as np\n",
        "\n",
        "# Create a 2D ndarray\n",
        "arr = np.array([[1, 2, 3], [4, 5, 6]])\n",
        "\n",
        "print(arr)\n",
        "print(arr.dtype)"
      ],
      "metadata": {
        "id": "fAwPsQ0AeLN2",
        "colab": {
          "base_uri": "https://localhost:8080/"
        },
        "outputId": "2d929dab-f57e-46b0-8ac1-b39241ee01af"
      },
      "execution_count": 7,
      "outputs": [
        {
          "output_type": "stream",
          "name": "stdout",
          "text": [
            "[[1 2 3]\n",
            " [4 5 6]]\n",
            "int64\n"
          ]
        }
      ]
    },
    {
      "cell_type": "code",
      "source": [
        "#Q6 Analyze the performance benefits of NumPy arrays over Python lists for large-scale numerical operations.\n",
        "# Ans. NumPy arrays offer significant performance benefits over Python lists for large-scale numerical operations due to:\n",
        "\n",
        "# 1. Memory Efficiency: NumPy arrays store data in contiguous blocks of memory, allowing for more efficient storage and access compared to Python lists, which are arrays\n",
        "# of pointers to objects. This reduces memory overhead.\n",
        "\n",
        "# 2. Vectorized Operations: NumPy supports vectorized operations, meaning operations are applied element-wise, avoiding the need for explicit loops in Python. This leads\n",
        "# to faster execution.\n",
        "\n",
        "# 3. Optimized C Backend: NumPy is implemented in C, and many of its operations are highly optimized for speed, whereas Python lists rely on slower Python loops.\n",
        "\n",
        "# 4. Data Type Homogeneity: NumPy arrays require that all elements be of the same data type, allowing for faster computations. Python lists can store heterogeneous data,\n",
        "# adding overhead.\n",
        "import numpy as np\n",
        "import time\n",
        "\n",
        "# Python list\n",
        "size = 10**6\n",
        "list1 = list(range(size))\n",
        "list2 = list(range(size))\n",
        "\n",
        "start_time = time.time()\n",
        "result_list = [x + y for x, y in zip(list1, list2)]\n",
        "print(\"List time:\", time.time() - start_time)\n",
        "\n",
        "# NumPy array\n",
        "array1 = np.arange(size)\n",
        "array2 = np.arange(size)\n",
        "\n",
        "start_time = time.time()\n",
        "result_array = array1 + array2\n",
        "print(\"NumPy time:\", time.time() - start_time)"
      ],
      "metadata": {
        "id": "UJHir0KbePbQ",
        "colab": {
          "base_uri": "https://localhost:8080/"
        },
        "outputId": "1ede7036-a78d-47d0-80f6-924d53d75dc5"
      },
      "execution_count": 8,
      "outputs": [
        {
          "output_type": "stream",
          "name": "stdout",
          "text": [
            "List time: 0.09979677200317383\n",
            "NumPy time: 0.0047588348388671875\n"
          ]
        }
      ]
    },
    {
      "cell_type": "code",
      "source": [
        "#Q7 Compare vstack() and hstack() functions in NumPy. Provide examples demonstrating their usage and output.\n",
        "# Ans. In NumPy, vstack() and hstack() are used to stack arrays vertically and horizontally, respectively.\n",
        "\n",
        "# 1. vstack(): Stacks arrays vertically (row-wise), aligning them along columns.\n",
        "# It requires arrays to have the same number of columns.\n",
        "import numpy as np\n",
        "\n",
        "a = np.array([1, 2, 3])\n",
        "b = np.array([4, 5, 6])\n",
        "\n",
        "result_vstack = np.vstack((a, b))\n",
        "print(result_vstack)\n",
        "\n",
        "# 2. hstack(): Stacks arrays horizontally (column-wise), aligning them along rows.\n",
        "# It requires arrays to have the same number of rows.\n",
        "result_hstack = np.hstack((a, b))\n",
        "print(result_hstack)"
      ],
      "metadata": {
        "id": "kV0If1iOeS1A",
        "colab": {
          "base_uri": "https://localhost:8080/"
        },
        "outputId": "b56d202e-5f6d-4754-85a2-55e1f6963e22"
      },
      "execution_count": 9,
      "outputs": [
        {
          "output_type": "stream",
          "name": "stdout",
          "text": [
            "[[1 2 3]\n",
            " [4 5 6]]\n",
            "[1 2 3 4 5 6]\n"
          ]
        }
      ]
    },
    {
      "cell_type": "code",
      "source": [
        "#Q8 Explain the differences between fliplr() and flipud() methods in NumPy, including their effects on various array dimensions.\n",
        "# Ans. In NumPy, the methods fliplr() and flipud() are used to flip arrays along specific axes, but they operate differently depending on the dimension:\n",
        "\n",
        "# 1. fliplr() (Flip Left to Right):\n",
        "# Effect: It flips the array horizontally (left to right) along the columns.\n",
        "# Applicable: This works only on 2D arrays or higher. It reverses the order of columns.\n",
        "import numpy as np\n",
        "\n",
        "arr = np.array([[1, 2, 3],\n",
        "                [4, 5, 6]])\n",
        "result_fliplr = np.fliplr(arr)\n",
        "print(result_fliplr)\n",
        "\n",
        "# 2. flipud() (Flip Up to Down):\n",
        "# Effect: It flips the array vertically (upside down) along the rows.\n",
        "# Applicable: This works on arrays of any dimension (1D, 2D, or higher). It reverses the order of rows.\n",
        "result_flipud = np.flipud(arr)\n",
        "print(result_flipud)"
      ],
      "metadata": {
        "id": "JEzy9ssreWxB",
        "colab": {
          "base_uri": "https://localhost:8080/"
        },
        "outputId": "84eac6cf-1b6d-480c-9f0f-af7ad7a7fdb5"
      },
      "execution_count": 10,
      "outputs": [
        {
          "output_type": "stream",
          "name": "stdout",
          "text": [
            "[[3 2 1]\n",
            " [6 5 4]]\n",
            "[[4 5 6]\n",
            " [1 2 3]]\n"
          ]
        }
      ]
    },
    {
      "cell_type": "code",
      "source": [
        "#Q9 Discuss the functionality of the array_split() method in NumPy. How does it handle uneven splits?\n",
        "# Ans. The array_split() method in NumPy splits an array into multiple sub-arrays along a specified axis. It's particularly useful when you want to divide an array into\n",
        "# a certain number of parts, even if those parts are not of equal size.\n",
        "\n",
        "# Handling Uneven Splits:\n",
        "# If the array cannot be evenly divided by the specified number of sections, array_split() handles this by creating sub-arrays where some parts may have more elements than others. Specifically:\n",
        "\n",
        "# It distributes the remainder among the earlier sections, making them slightly larger.\n",
        "# For example, if you split an array of 10 elements into 3 parts, the result might be arrays of sizes [4, 3, 3] instead of equal sizes.\n",
        "# This behavior allows flexibility in splitting arrays that do not have a size divisible by the number of desired splits.\n",
        "import numpy as np\n",
        "\n",
        "# Create an array of 10 elements\n",
        "arr = np.arange(10)\n",
        "\n",
        "# Split the array into 3 parts\n",
        "splits = np.array_split(arr, 3)\n",
        "\n",
        "for i, split in enumerate(splits):\n",
        "    print(f\"Split {i}: {split}\")"
      ],
      "metadata": {
        "id": "Zd_M4L2kecUH",
        "colab": {
          "base_uri": "https://localhost:8080/"
        },
        "outputId": "5744a9fa-586e-4a33-8782-822b40f65947"
      },
      "execution_count": 11,
      "outputs": [
        {
          "output_type": "stream",
          "name": "stdout",
          "text": [
            "Split 0: [0 1 2 3]\n",
            "Split 1: [4 5 6]\n",
            "Split 2: [7 8 9]\n"
          ]
        }
      ]
    },
    {
      "cell_type": "code",
      "source": [
        "#Q10 Explain the concepts of vectorization and broadcasting in NumPy. How do they contribute to efficient array operations?\n",
        "#Ans. In NumPy, vectorization refers to performing operations on entire arrays (vectors) without the need for explicit loops, leveraging highly optimized C code\n",
        "#under the hood. This makes operations much faster than traditional loops in Python.\n",
        "\n",
        "#Broadcasting is a mechanism that allows NumPy to perform operations on arrays of different shapes. Instead of reshaping data manually, broadcasting automatically\n",
        "#expands smaller arrays to match the shape of larger ones, enabling element-wise operations without needing explicit looping.\n",
        "\n",
        "#Both vectorization and broadcasting contribute to efficient array operations by reducing the overhead of Python loops and minimizing memory usage, making numerical\n",
        "#computations faster and more efficient."
      ],
      "metadata": {
        "id": "ChkOfizZehVn"
      },
      "execution_count": null,
      "outputs": []
    },
    {
      "cell_type": "code",
      "source": [
        "# Practical Questions :-"
      ],
      "metadata": {
        "id": "AKnTdbk6emN5"
      },
      "execution_count": null,
      "outputs": []
    },
    {
      "cell_type": "code",
      "source": [
        "#Q1 Create a 3x3 NumPy array with random integers between 1 and 100. Then, interchange its rows and columns.import numpy as np\n",
        "ar=np.random.randint(1,100,(3,3))\n",
        "print(ar)\n",
        "print('__________')\n",
        "print(ar.T)"
      ],
      "metadata": {
        "id": "IMw3rloIe7Mu",
        "colab": {
          "base_uri": "https://localhost:8080/"
        },
        "outputId": "ed4d81bc-1515-4d45-ec35-2ca91276f69d"
      },
      "execution_count": 13,
      "outputs": [
        {
          "output_type": "stream",
          "name": "stdout",
          "text": [
            "[[22 69 13]\n",
            " [65 23  3]\n",
            " [91 24 73]]\n",
            "__________\n",
            "[[22 65 91]\n",
            " [69 23 24]\n",
            " [13  3 73]]\n"
          ]
        }
      ]
    },
    {
      "cell_type": "code",
      "source": [
        "#Q2 Generate a 1D NumPy array with 10 elements. Reshape it into a 2x5 array, then into a 5x2 array.\n",
        "ar=np.array([1,2,3,4,5,6,7,8,9,10])\n",
        "print('Original array')\n",
        "print(ar)\n",
        "print('2x5 array')\n",
        "print(ar.reshape(2,5))\n",
        "print('5x2 array')\n",
        "ar.reshape(5,2)"
      ],
      "metadata": {
        "id": "-WzMv2NbfFU_",
        "colab": {
          "base_uri": "https://localhost:8080/"
        },
        "outputId": "005d90d4-12b8-4ef5-8574-4ca9faa2c1b9"
      },
      "execution_count": 15,
      "outputs": [
        {
          "output_type": "stream",
          "name": "stdout",
          "text": [
            "Original array\n",
            "[ 1  2  3  4  5  6  7  8  9 10]\n",
            "2x5 array\n",
            "[[ 1  2  3  4  5]\n",
            " [ 6  7  8  9 10]]\n",
            "5x2 array\n"
          ]
        },
        {
          "output_type": "execute_result",
          "data": {
            "text/plain": [
              "array([[ 1,  2],\n",
              "       [ 3,  4],\n",
              "       [ 5,  6],\n",
              "       [ 7,  8],\n",
              "       [ 9, 10]])"
            ]
          },
          "metadata": {},
          "execution_count": 15
        }
      ]
    },
    {
      "cell_type": "code",
      "source": [
        "#Q3 Create a 4x4 NumPy array with random float values. Add a border of zeros around it, resulting in a 6x6 array\n",
        "import numpy as np\n",
        "\n",
        "# Create a 4x4 array with random float values\n",
        "array_4x4 = np.random.rand(4, 4)\n",
        "\n",
        "# Add a border of zeros around the array\n",
        "array_6x6 = np.pad(array_4x4, pad_width=1, mode='constant', constant_values=0)\n",
        "\n",
        "print(\"4x4 Array:\")\n",
        "print(array_4x4)\n",
        "print(\"\\n6x6 Array with border of zeros:\")\n",
        "print(array_6x6)\n"
      ],
      "metadata": {
        "id": "_48T53FEfInI",
        "colab": {
          "base_uri": "https://localhost:8080/"
        },
        "outputId": "220c8091-67a6-4361-8e43-b5e43d691900"
      },
      "execution_count": 20,
      "outputs": [
        {
          "output_type": "stream",
          "name": "stdout",
          "text": [
            "4x4 Array:\n",
            "[[0.03465225 0.52808016 0.50225447 0.39399667]\n",
            " [0.97392851 0.71934556 0.63312019 0.39522066]\n",
            " [0.98376859 0.58254733 0.67731535 0.07798569]\n",
            " [0.37529098 0.29469679 0.35097656 0.77782433]]\n",
            "\n",
            "6x6 Array with border of zeros:\n",
            "[[0.         0.         0.         0.         0.         0.        ]\n",
            " [0.         0.03465225 0.52808016 0.50225447 0.39399667 0.        ]\n",
            " [0.         0.97392851 0.71934556 0.63312019 0.39522066 0.        ]\n",
            " [0.         0.98376859 0.58254733 0.67731535 0.07798569 0.        ]\n",
            " [0.         0.37529098 0.29469679 0.35097656 0.77782433 0.        ]\n",
            " [0.         0.         0.         0.         0.         0.        ]]\n"
          ]
        }
      ]
    },
    {
      "cell_type": "code",
      "source": [
        "#Q4 Using NumPy, create an array of integers from 10 to 60 with a step of 5\n",
        "array=np.arange(10,60)\n",
        "print(array)"
      ],
      "metadata": {
        "id": "wKQqajXufKv3",
        "colab": {
          "base_uri": "https://localhost:8080/"
        },
        "outputId": "514eab47-8483-4ce0-f167-315ec07b30de"
      },
      "execution_count": 21,
      "outputs": [
        {
          "output_type": "stream",
          "name": "stdout",
          "text": [
            "[10 11 12 13 14 15 16 17 18 19 20 21 22 23 24 25 26 27 28 29 30 31 32 33\n",
            " 34 35 36 37 38 39 40 41 42 43 44 45 46 47 48 49 50 51 52 53 54 55 56 57\n",
            " 58 59]\n"
          ]
        }
      ]
    },
    {
      "cell_type": "code",
      "source": [
        "#Q5 Create a NumPy array of strings ['python', 'numpy', 'pandas']. Apply different case transformations (uppercase, lowercase, title case, etc.) to each element.\n",
        "x=np.array(['python','numpy','pandas'])\n",
        "print(x)\n",
        "upper_case=np.char.upper(x)\n",
        "print(upper_case)\n",
        "lower_case=np.char.lower(x)\n",
        "print(lower_case)\n",
        "title_case=np.char.title(x)\n",
        "print(title_case)\n",
        "capitalize_case=np.char.capitalize(x)\n",
        "print(capitalize_case)"
      ],
      "metadata": {
        "id": "nATHhYyafNY3",
        "colab": {
          "base_uri": "https://localhost:8080/"
        },
        "outputId": "3efe61d3-0ffe-424f-d37a-0dfb521bccd3"
      },
      "execution_count": 22,
      "outputs": [
        {
          "output_type": "stream",
          "name": "stdout",
          "text": [
            "['python' 'numpy' 'pandas']\n",
            "['PYTHON' 'NUMPY' 'PANDAS']\n",
            "['python' 'numpy' 'pandas']\n",
            "['Python' 'Numpy' 'Pandas']\n",
            "['Python' 'Numpy' 'Pandas']\n"
          ]
        }
      ]
    },
    {
      "cell_type": "code",
      "source": [
        "#Q6 Generate a NumPy array of words. Insert a space between each character of every word in the array.\n",
        "x=np.array(['python','numpy','pandas'])\n",
        "print('Original array: ',x)\n",
        "r=np.char.join(' ', x)\n",
        "print(r)"
      ],
      "metadata": {
        "id": "wyhaOF3mfSr_",
        "colab": {
          "base_uri": "https://localhost:8080/"
        },
        "outputId": "735f0b38-2669-456c-e339-d6c35cc0f9e7"
      },
      "execution_count": 24,
      "outputs": [
        {
          "output_type": "stream",
          "name": "stdout",
          "text": [
            "Original array:  ['python' 'numpy' 'pandas']\n",
            "['p y t h o n' 'n u m p y' 'p a n d a s']\n"
          ]
        }
      ]
    },
    {
      "cell_type": "code",
      "source": [
        "#Q7 Create two 2D NumPy arrays and perform element-wise addition, subtraction, multiplication, and division.\n",
        "arr1=np.random.rand(2,2)\n",
        "print(arr1)\n",
        "arr2=np.random.rand(2,2)\n",
        "print(arr2)\n",
        "# add two 2-D array\n",
        "add_array=np.add(arr1,arr2)\n",
        "print('addition of two array: ',add_array)\n",
        "# subtract two 2-D array\n",
        "substraction_array=np.subtract(arr1,arr2)\n",
        "print('subtraction of two array: ',substraction_array)\n",
        "# multiplication 2-D array\n",
        "multiplication_array=np.multiply(arr1,arr2)\n",
        "print('multiplication of two array: ',multiplication_array)\n",
        "# division 2-D array\n",
        "division_array=np.divide(arr1,arr2)\n",
        "print('division of two array: ',division_array)"
      ],
      "metadata": {
        "id": "5FyPRK2AfZJ3",
        "colab": {
          "base_uri": "https://localhost:8080/"
        },
        "outputId": "0a649392-d04c-421b-c67a-da3f1b6af59c"
      },
      "execution_count": 25,
      "outputs": [
        {
          "output_type": "stream",
          "name": "stdout",
          "text": [
            "[[0.59417009 0.09646477]\n",
            " [0.80180265 0.28434305]]\n",
            "[[0.24275483 0.83448671]\n",
            " [0.90841091 0.03338043]]\n",
            "addition of two array:  [[0.83692492 0.93095148]\n",
            " [1.71021356 0.31772348]]\n",
            "subtraction of two array:  [[ 0.35141526 -0.73802195]\n",
            " [-0.10660827  0.25096262]]\n",
            "multiplication of two array:  [[0.14423766 0.08049857]\n",
            " [0.72836627 0.00949149]]\n",
            "division of two array:  [[2.44761385 0.11559772]\n",
            " [0.88264312 8.51825622]]\n"
          ]
        }
      ]
    },
    {
      "cell_type": "code",
      "source": [
        "#Q8 Use NumPy to create a 5x5 identity matrix, then extract its diagonal elements.x=np.eye(5,5)\n",
        "x=np.eye(5,5)\n",
        "print(x)\n",
        "y=np.diag(x)\n",
        "print(y)"
      ],
      "metadata": {
        "id": "wIYaMKuKfcdw",
        "colab": {
          "base_uri": "https://localhost:8080/"
        },
        "outputId": "6dd023f4-fe6a-4602-91c1-b383afc649e3"
      },
      "execution_count": 28,
      "outputs": [
        {
          "output_type": "stream",
          "name": "stdout",
          "text": [
            "[[1. 0. 0. 0. 0.]\n",
            " [0. 1. 0. 0. 0.]\n",
            " [0. 0. 1. 0. 0.]\n",
            " [0. 0. 0. 1. 0.]\n",
            " [0. 0. 0. 0. 1.]]\n",
            "[1. 1. 1. 1. 1.]\n"
          ]
        }
      ]
    },
    {
      "cell_type": "code",
      "source": [
        "#Q9 Generate a NumPy array of 100 random integers between 0 and 1000. Find and display all prime numbers in this array.\n",
        "import numpy as np\n",
        "\n",
        "# Generate a NumPy array of 100 random integers between 0 and 1000\n",
        "random_integers = np.random.randint(0, 1000, size=100)\n",
        "\n",
        "# Function to check if a number is prime\n",
        "def is_prime(n):\n",
        "    if n < 2:\n",
        "        return False\n",
        "    for i in range(2, int(np.sqrt(n)) + 1):\n",
        "        if n % i == 0:\n",
        "            return False\n",
        "    return True\n",
        "\n",
        "# Find and display all prime numbers in the array\n",
        "prime_numbers = [num for num in random_integers if is_prime(num)]\n",
        "\n",
        "random_integers, prime_numbers"
      ],
      "metadata": {
        "id": "_Lpf_tx9ffwH",
        "colab": {
          "base_uri": "https://localhost:8080/"
        },
        "outputId": "74582e8f-6114-4754-bd15-64a46ce4148d"
      },
      "execution_count": 29,
      "outputs": [
        {
          "output_type": "execute_result",
          "data": {
            "text/plain": [
              "(array([992, 331, 583, 717, 962, 893,  63, 922, 215, 498, 788,  27, 247,\n",
              "        995, 501, 109, 256, 944, 495, 660, 584, 144,  67, 957,  18, 363,\n",
              "        130, 529, 634, 385, 415, 465, 358, 930, 406, 871, 716, 715, 482,\n",
              "        417, 456,  73,  40, 541, 200, 189, 559, 323, 554,  26, 501, 292,\n",
              "        761, 653, 802, 273, 500, 419, 735, 690, 421, 216, 263, 362, 782,\n",
              "        572, 722, 768, 467,  70,   5,  63, 660, 738, 560, 255, 392, 462,\n",
              "        774, 873, 928, 133,  59, 442, 112, 812, 402, 470, 164, 683, 459,\n",
              "        856, 728,  80,  88, 469, 464, 978, 710, 409]),\n",
              " [331, 109, 67, 73, 541, 761, 653, 419, 421, 263, 467, 5, 59, 683, 409])"
            ]
          },
          "metadata": {},
          "execution_count": 29
        }
      ]
    },
    {
      "cell_type": "code",
      "source": [],
      "metadata": {
        "id": "kKjnrcV3fnD4"
      },
      "execution_count": null,
      "outputs": []
    }
  ]
}