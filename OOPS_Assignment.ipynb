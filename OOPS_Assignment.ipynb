{
  "nbformat": 4,
  "nbformat_minor": 0,
  "metadata": {
    "colab": {
      "provenance": []
    },
    "kernelspec": {
      "name": "python3",
      "display_name": "Python 3"
    },
    "language_info": {
      "name": "python"
    }
  },
  "cells": [
    {
      "cell_type": "code",
      "execution_count": null,
      "metadata": {
        "id": "e35sE_RSfz8F"
      },
      "outputs": [],
      "source": [
        "#1. What are the five key concepts of Object-Oriented Programming (OOP)?\n",
        "\n",
        "#The five key concepts of Object-Oriented Programming (OOP) in Python are:\n",
        "\n",
        "#Inheritance:\n",
        "#Allows a child class to inherit attributes and methods from a parent class. This promotes code reusability and logical structure.\n",
        "\n",
        "#Encapsulation:\n",
        "#The concept of binding data to functions to protect that data from direct change. Encapsulation provides data protection and control over how the code interacts with an object's internal state.\n",
        "\n",
        "#Polymorphism:\n",
        "#Uses methods inherited from another class to perform different tasks. This allows a single action to be performed in different ways.\n",
        "\n",
        "#Abstraction:\n",
        "#A critical component of OOP, which is a type of programming language that uses objects to organize its code.\n",
        "\n",
        "#Public Variables and Methods:\n",
        "#By default, all attributes and methods in a class in Python are considered public, meaning they can be accessed from outside the class."
      ]
    },
    {
      "cell_type": "code",
      "source": [
        "#2. Write a Python class for a `Car` with attributes for `make`, `model`, and `year`. Include a method to display the car's information.\n",
        "\n",
        "class Car:\n",
        "    def __init__(self, make, model, year):\n",
        "        self.make = make\n",
        "        self.model = model\n",
        "        self.year = year\n",
        "\n",
        "    def display_info(self):\n",
        "        print(f\"Car Information:\\nMake: {self.make}\\nModel: {self.model}\\nYear: {self.year}\")\n",
        "\n",
        "# Example usage:\n",
        "if __name__ == \"__main__\":\n",
        "    my_car = Car(\"Toyota\", \"Corolla\", 2020)\n",
        "    my_car.display_info()\n"
      ],
      "metadata": {
        "id": "otIUBBbuUO8l",
        "colab": {
          "base_uri": "https://localhost:8080/"
        },
        "outputId": "bed25bec-bffc-4647-f458-8a485f5a5c73"
      },
      "execution_count": 1,
      "outputs": [
        {
          "output_type": "stream",
          "name": "stdout",
          "text": [
            "Car Information:\n",
            "Make: Toyota\n",
            "Model: Corolla\n",
            "Year: 2020\n"
          ]
        }
      ]
    },
    {
      "cell_type": "code",
      "source": [
        "#3. Explain the difference between instance methods and class methods. Provide an example of each.\n",
        "\n",
        "# Instance Methods:\n",
        "# Definition: Instance methods are functions defined inside a class that operate on instances of that class. They can access and modify instance attributes.\n",
        "# Access: They take self as the first parameter, which refers to the instance calling the method.\n",
        "class Dog:\n",
        "    def __init__(self, name):\n",
        "        self.name = name\n",
        "\n",
        "    def bark(self):\n",
        "        return f\"{self.name} says Woof!\"\n",
        "\n",
        "# Example usage:\n",
        "my_dog = Dog(\"Buddy\")\n",
        "print(my_dog.bark())  # Output: Buddy says Woof!"
      ],
      "metadata": {
        "id": "EXZVi3dxUTus",
        "colab": {
          "base_uri": "https://localhost:8080/"
        },
        "outputId": "5a2386dc-60e2-479d-b7b7-874258e1b848"
      },
      "execution_count": 2,
      "outputs": [
        {
          "output_type": "stream",
          "name": "stdout",
          "text": [
            "Buddy says Woof!\n"
          ]
        }
      ]
    },
    {
      "cell_type": "code",
      "source": [
        "# Class Methods:\n",
        "# Definition: Class methods are functions defined within a class that operate on the class itself rather than on instances. They can modify class state that applies across all instances of the class.\n",
        "# Access: They take cls as the first parameter, which refers to the class itself. Class methods are defined using the @classmethod decorator.\n",
        "class Dog:\n",
        "    species = \"Canis lupus familiaris\"  # Class attribute\n",
        "\n",
        "    @classmethod\n",
        "    def get_species(cls):\n",
        "        return cls.species\n",
        "\n",
        "# Example usage:\n",
        "print(Dog.get_species())  # Output: Canis lupus familiaris"
      ],
      "metadata": {
        "colab": {
          "base_uri": "https://localhost:8080/"
        },
        "id": "FbJOrVhH3Rpv",
        "outputId": "ee38276e-01e0-40d8-d81a-4280a8345aef"
      },
      "execution_count": 3,
      "outputs": [
        {
          "output_type": "stream",
          "name": "stdout",
          "text": [
            "Canis lupus familiaris\n"
          ]
        }
      ]
    },
    {
      "cell_type": "code",
      "source": [
        "#4. How does Python implement method overloading? Give an example.\n",
        "\n",
        "# Method Overloading with Default Arguments\n",
        "# You can define a method with default parameter values. This allows the method to be called with different numbers of arguments.\n",
        "class Calculator:\n",
        "    def add(self, a, b=0, c=0):\n",
        "        return a + b + c\n",
        "\n",
        "# Example usage:\n",
        "calc = Calculator()\n",
        "print(calc.add(5))         # Output: 5 (5 + 0 + 0)\n",
        "print(calc.add(5, 3))      # Output: 8 (5 + 3 + 0)\n",
        "print(calc.add(5, 3, 2))   # Output: 10 (5 + 3 + 2)"
      ],
      "metadata": {
        "id": "aooDaB4VUXor",
        "colab": {
          "base_uri": "https://localhost:8080/"
        },
        "outputId": "a9f26942-d797-4302-dba7-057785ba4562"
      },
      "execution_count": 5,
      "outputs": [
        {
          "output_type": "stream",
          "name": "stdout",
          "text": [
            "5\n",
            "8\n",
            "10\n"
          ]
        }
      ]
    },
    {
      "cell_type": "code",
      "source": [
        "#5. What are the three types of access modifiers in Python? How are they denoted?\n",
        "\n",
        "# In Python, access modifiers control the visibility and accessibility of class attributes and methods. The three main types of access modifiers are:\n",
        "\n",
        "# 1. Public:\n",
        "# Description: Public members are accessible from anywhere, both inside and outside the class.\n",
        "# Denotation: Public attributes and methods are defined without any leading underscores.\n",
        "\n",
        "# 2. Protected:\n",
        " #Description: Protected members are intended to be accessible within the class and its subclasses. They are not meant to be accessed from outside the class hierarchy.\n",
        "# Denotation: Protected attributes and methods are defined with a single leading underscore (_).\n",
        "\n",
        "# 3. Private:\n",
        "# Description: Private members are intended to be accessible only within the class where they are defined. They cannot be accessed from subclasses or outside the class.\n",
        "# Denotation: Private attributes and methods are defined with a double leading underscore (__).\n"
      ],
      "metadata": {
        "id": "vxN2oEavUaRD"
      },
      "execution_count": 6,
      "outputs": []
    },
    {
      "cell_type": "code",
      "source": [
        "#6. Describe the five types of inheritance in Python. Provide a simple example of multiple inheritance.\n",
        "\n",
        "# 1. Single Inheritance:\n",
        "# Description: A subclass inherits from a single superclass.\n",
        "\n",
        "#2. Multiple Inheritance:\n",
        "# Description: A subclass inherits from multiple superclasses. This allows the subclass to combine functionalities from multiple sources.\n",
        "# Example:\n",
        "class Father:\n",
        "    def skills(self):\n",
        "        return \"Driving, Cooking\"\n",
        "\n",
        "class Mother:\n",
        "    def skills(self):\n",
        "        return \"Singing, Dancing\"\n",
        "\n",
        "class Child(Father, Mother):\n",
        "    def skills(self):\n",
        "        return f\"Child skills: {Father.skills(self)}, {Mother.skills(self)}\"\n",
        "\n",
        "# Usage\n",
        "child = Child()\n",
        "print(child.skills())  # Output: Child skills: Driving, Cooking, Singing, Dancing\n",
        "\n",
        "#3. Multilevel Inheritance:\n",
        "# Description: A subclass inherits from a superclass, which is also a subclass of another superclass, forming a chain of inheritance.\n",
        "\n",
        "# 4. Hierarchical Inheritance:\n",
        "# Description: Multiple subclasses inherit from a single superclass.\n",
        "\n",
        "# 5. Hybrid Inheritance:\n",
        "# Description: A combination of two or more types of inheritance, such as a mix of multiple and multilevel inheritance."
      ],
      "metadata": {
        "id": "tNo2ws9QUd6D",
        "colab": {
          "base_uri": "https://localhost:8080/"
        },
        "outputId": "f7f8dc65-f9f4-4d48-e813-0e948a753bdf"
      },
      "execution_count": 7,
      "outputs": [
        {
          "output_type": "stream",
          "name": "stdout",
          "text": [
            "Child skills: Driving, Cooking, Singing, Dancing\n"
          ]
        }
      ]
    },
    {
      "cell_type": "code",
      "source": [
        "#7. What is the Method Resolution Order (MRO) in Python? How can you retrieve it programmatically?\n",
        "\n",
        "#Method Resolution Order (MRO) in Python defines the order in which classes are looked up when searching for a method or attribute. This is particularly important in the context of multiple inheritance, where a class may inherit from multiple parent classes.\n",
        "#Python uses the C3 linearization algorithm to determine the MRO, ensuring that the order is consistent and respects the hierarchy of classes.\n",
        "\n",
        "#Retrieving MRO Programmatically:\n",
        "#You can retrieve the MRO of a class using the mro() method or the __mro__ attribute.\n",
        "\n",
        "class A:\n",
        "    pass\n",
        "\n",
        "class B(A):\n",
        "    pass\n",
        "\n",
        "class C(A):\n",
        "    pass\n",
        "\n",
        "class D(B, C):\n",
        "    pass\n",
        "\n",
        "# Retrieve MRO using the mro() method\n",
        "print(D.mro())           # Output: [<class '__main__.D'>, <class '__main__.B'>, <class '__main__.C'>, <class '__main__.A'>, <class 'object'>]\n",
        "\n",
        "# Retrieve MRO using the __mro__ attribute\n",
        "print(D.__mro__)        # Output: (<class '__main__.D'>, <class '__main__.B'>, <class '__main__.C'>, <class '__main__.A'>, <class 'object'>)\n"
      ],
      "metadata": {
        "id": "i1aznRs4Uhac",
        "colab": {
          "base_uri": "https://localhost:8080/"
        },
        "outputId": "b0f59ce8-5d83-41ce-ea7c-7151cd6c9352"
      },
      "execution_count": 8,
      "outputs": [
        {
          "output_type": "stream",
          "name": "stdout",
          "text": [
            "[<class '__main__.D'>, <class '__main__.B'>, <class '__main__.C'>, <class '__main__.A'>, <class 'object'>]\n",
            "(<class '__main__.D'>, <class '__main__.B'>, <class '__main__.C'>, <class '__main__.A'>, <class 'object'>)\n"
          ]
        }
      ]
    },
    {
      "cell_type": "code",
      "source": [
        "#8. Create an abstract base class `Shape` with an abstract method `area()`. Then create two subclasses `Circle` and `Rectangle` that implement the `area()` method.\n",
        "\n",
        "# To create an abstract base class Shape with an abstract method area(), you can use the abc module in Python. Here’s how you can define the class along with the subclasses Circle and Rectangle:\n",
        "\n",
        "from abc import ABC, abstractmethod\n",
        "import math\n",
        "\n",
        "class Shape(ABC):\n",
        "    @abstractmethod\n",
        "    def area(self):\n",
        "        pass\n",
        "\n",
        "class Circle(Shape):\n",
        "    def __init__(self, radius):\n",
        "        self.radius = radius\n",
        "\n",
        "    def area(self):\n",
        "        return math.pi * self.radius ** 2\n",
        "\n",
        "class Rectangle(Shape):\n",
        "    def __init__(self, width, height):\n",
        "        self.width = width\n",
        "        self.height = height\n",
        "\n",
        "    def area(self):\n",
        "        return self.width * self.height\n",
        "\n",
        "# Example usage\n",
        "if __name__ == \"__main__\":\n",
        "    circle = Circle(5)\n",
        "    rectangle = Rectangle(4, 6)\n",
        "\n",
        "    print(f\"Circle area: {circle.area():.2f}\")       # Output: Circle area: 78.54\n",
        "    print(f\"Rectangle area: {rectangle.area():.2f}\")  # Output: Rectangle area: 24.00\n"
      ],
      "metadata": {
        "id": "9SWpeHiuUkvb",
        "colab": {
          "base_uri": "https://localhost:8080/"
        },
        "outputId": "b68b3028-c0fe-4d6d-f3e8-702ee6ccce0c"
      },
      "execution_count": 10,
      "outputs": [
        {
          "output_type": "stream",
          "name": "stdout",
          "text": [
            "Circle area: 78.54\n",
            "Rectangle area: 24.00\n"
          ]
        }
      ]
    },
    {
      "cell_type": "code",
      "source": [
        "#9. Demonstrate polymorphism by creating a function that can work with different shape objects to calculate and print their areas.\n",
        "\n",
        "from abc import ABC, abstractmethod\n",
        "import math\n",
        "\n",
        "class Shape(ABC):\n",
        "    @abstractmethod\n",
        "    def area(self):\n",
        "        pass\n",
        "\n",
        "class Circle(Shape):\n",
        "    def __init__(self, radius):\n",
        "        self.radius = radius\n",
        "\n",
        "    def area(self):\n",
        "        return math.pi * self.radius ** 2\n",
        "\n",
        "class Rectangle(Shape):\n",
        "    def __init__(self, width, height):\n",
        "        self.width = width\n",
        "        self.height = height\n",
        "\n",
        "    def area(self):\n",
        "        return self.width * self.height\n",
        "\n",
        "def print_area(shape: Shape):\n",
        "    print(f\"The area of the shape is: {shape.area():.2f}\")\n",
        "\n",
        "# Example usage\n",
        "if __name__ == \"__main__\":\n",
        "    circle = Circle(5)\n",
        "    rectangle = Rectangle(4, 6)\n",
        "\n",
        "    print_area(circle)       # Output: The area of the shape is: 78.54\n",
        "    print_area(rectangle)    # Output: The area of the shape is: 24.00\n"
      ],
      "metadata": {
        "id": "75ljs32JUokj",
        "colab": {
          "base_uri": "https://localhost:8080/"
        },
        "outputId": "56f52345-de59-4cd2-9736-0c2c2624915a"
      },
      "execution_count": 11,
      "outputs": [
        {
          "output_type": "stream",
          "name": "stdout",
          "text": [
            "The area of the shape is: 78.54\n",
            "The area of the shape is: 24.00\n"
          ]
        }
      ]
    },
    {
      "cell_type": "code",
      "source": [
        "#10. Implement encapsulation in a `BankAccount` class with private attributes for `balance` and `account_number`. Include methods for deposit, withdrawal, and balance inquiry.\n",
        "\n",
        "class BankAccount:\n",
        "    def __init__(self, account_number, initial_balance=0):\n",
        "        self.__account_number = account_number  # Private attribute\n",
        "        self.__balance = initial_balance          # Private attribute\n",
        "\n",
        "    def deposit(self, amount):\n",
        "        if amount > 0:\n",
        "            self.__balance += amount\n",
        "            print(f\"Deposited: ${amount:.2f}. New balance: ${self.__balance:.2f}.\")\n",
        "        else:\n",
        "            print(\"Deposit amount must be positive.\")\n",
        "\n",
        "    def withdraw(self, amount):\n",
        "        if amount > 0:\n",
        "            if amount <= self.__balance:\n",
        "                self.__balance -= amount\n",
        "                print(f\"Withdrew: ${amount:.2f}. New balance: ${self.__balance:.2f}.\")\n",
        "            else:\n",
        "                print(\"Insufficient funds.\")\n",
        "        else:\n",
        "            print(\"Withdrawal amount must be positive.\")\n",
        "\n",
        "    def get_balance(self):\n",
        "        return self.__balance\n",
        "\n",
        "    def get_account_number(self):\n",
        "        return self.__account_number\n",
        "\n",
        "# Example usage\n",
        "if __name__ == \"__main__\":\n",
        "    account = BankAccount(\"123456789\", 100.0)\n",
        "\n",
        "    print(f\"Account Number: {account.get_account_number()}\")\n",
        "    print(f\"Initial Balance: ${account.get_balance():.2f}\")\n",
        "\n",
        "    account.deposit(50.0)             # Deposited: $50.00\n",
        "    account.withdraw(30.0)            # Withdrew: $30.00\n",
        "    print(f\"Final Balance: ${account.get_balance():.2f}\")  # Output: Final Balance: $120.00\n",
        "\n",
        "    account.withdraw(150.0)           # Insufficient funds\n"
      ],
      "metadata": {
        "id": "-wNjvnSrUsWs",
        "colab": {
          "base_uri": "https://localhost:8080/"
        },
        "outputId": "f8e63baa-e749-434e-c9ba-15258e6c1883"
      },
      "execution_count": 12,
      "outputs": [
        {
          "output_type": "stream",
          "name": "stdout",
          "text": [
            "Account Number: 123456789\n",
            "Initial Balance: $100.00\n",
            "Deposited: $50.00. New balance: $150.00.\n",
            "Withdrew: $30.00. New balance: $120.00.\n",
            "Final Balance: $120.00\n",
            "Insufficient funds.\n"
          ]
        }
      ]
    },
    {
      "cell_type": "code",
      "source": [
        "#11. Write a class that overrides the `__str__` and `__add__` magic methods. What will these methods allow you to do?\n",
        "\n",
        "class Vector:\n",
        "    def __init__(self, x, y):\n",
        "        self.x = x\n",
        "        self.y = y\n",
        "\n",
        "    def __str__(self):\n",
        "        return f\"Vector({self.x}, {self.y})\"\n",
        "\n",
        "    def __add__(self, other):\n",
        "        if isinstance(other, Vector):\n",
        "            return Vector(self.x + other.x, self.y + other.y)\n",
        "        return NotImplemented\n",
        "\n",
        "# Example usage\n",
        "if __name__ == \"__main__\":\n",
        "    vector1 = Vector(1, 2)\n",
        "    vector2 = Vector(3, 4)\n",
        "\n",
        "    print(vector1)                 # Output: Vector(1, 2)\n",
        "    print(vector2)                 # Output: Vector(3, 4)\n",
        "\n",
        "    vector_sum = vector1 + vector2\n",
        "    print(vector_sum)              # Output: Vector(4, 6)\n",
        "\n",
        "# Custom String Representation: By overriding __str__, you provide a clear and user-friendly way to represent your objects.\n",
        "# Operator Overloading: By overriding __add__, you enable the use of the + operator to add objects of your class, making your class easier to use and more intuitive in mathematical contexts."
      ],
      "metadata": {
        "id": "t-AxLlplUyhz",
        "colab": {
          "base_uri": "https://localhost:8080/"
        },
        "outputId": "9e97457c-b670-4c33-c2a0-db38314576d6"
      },
      "execution_count": 13,
      "outputs": [
        {
          "output_type": "stream",
          "name": "stdout",
          "text": [
            "Vector(1, 2)\n",
            "Vector(3, 4)\n",
            "Vector(4, 6)\n"
          ]
        }
      ]
    },
    {
      "cell_type": "code",
      "source": [
        "#12. Create a decorator that measures and prints the execution time of a function.\n",
        "\n",
        "import time\n",
        "\n",
        "def time_decorator(func):\n",
        "    def wrapper(*args, **kwargs):\n",
        "        start_time = time.time()  # Record the start time\n",
        "        result = func(*args, **kwargs)  # Call the original function\n",
        "        end_time = time.time()  # Record the end time\n",
        "        execution_time = end_time - start_time  # Calculate the execution time\n",
        "        print(f\"Execution time of {func.__name__}: {execution_time:.6f} seconds\")\n",
        "        return result  # Return the result of the original function\n",
        "    return wrapper\n",
        "\n",
        "# Example usage\n",
        "@time_decorator\n",
        "def example_function(n):\n",
        "    \"\"\"Simulate a time-consuming computation.\"\"\"\n",
        "    total = 0\n",
        "    for i in range(n):\n",
        "        total += i\n",
        "    return total\n",
        "\n",
        "if __name__ == \"__main__\":\n",
        "    result = example_function(1000000)  # Call the decorated function\n",
        "    print(f\"Result: {result}\")  # Output the result\n"
      ],
      "metadata": {
        "id": "qLSKB4JkU2-I",
        "colab": {
          "base_uri": "https://localhost:8080/"
        },
        "outputId": "ad2e8e3a-5bee-4247-cfd4-2200a1b29d68"
      },
      "execution_count": 14,
      "outputs": [
        {
          "output_type": "stream",
          "name": "stdout",
          "text": [
            "Execution time of example_function: 0.066350 seconds\n",
            "Result: 499999500000\n"
          ]
        }
      ]
    },
    {
      "cell_type": "code",
      "source": [
        "#13. Explain the concept of the Diamond Problem in multiple inheritance. How does Python resolve it?\n",
        "\n",
        "# The Diamond Problem is a common issue in multiple inheritance scenarios, particularly in object-oriented programming languages like Python.\n",
        "# It occurs when a class inherits from two or more classes that have a common base class. This creates a diamond-shaped inheritance structure.\n",
        "\n",
        "# Python resolves the Diamond Problem using the C3 Linearization algorithm, also known as C3 superclass linearization.\n",
        "# This method creates a consistent and predictable order of resolution when searching for methods and attributes."
      ],
      "metadata": {
        "id": "uvOe9FoJU_z8"
      },
      "execution_count": 16,
      "outputs": []
    },
    {
      "cell_type": "code",
      "source": [
        "#14. Write a class method that keeps track of the number of instances created from a class.\n",
        "\n",
        "class InstanceCounter:\n",
        "    instance_count = 0  # Class variable to keep track of the number of instances\n",
        "\n",
        "    def __init__(self):\n",
        "        InstanceCounter.instance_count += 1  # Increment count whenever a new instance is created\n",
        "\n",
        "    @classmethod\n",
        "    def get_instance_count(cls):\n",
        "        return cls.instance_count  # Return the current count of instances\n",
        "\n",
        "# Example usage\n",
        "if __name__ == \"__main__\":\n",
        "    obj1 = InstanceCounter()\n",
        "    obj2 = InstanceCounter()\n",
        "    obj3 = InstanceCounter()\n",
        "\n",
        "    print(f\"Number of instances created: {InstanceCounter.get_instance_count()}\")  # Output: 3"
      ],
      "metadata": {
        "id": "_JKgJa2jVCfU",
        "colab": {
          "base_uri": "https://localhost:8080/"
        },
        "outputId": "e803ada8-071e-486f-d6d4-22ebf8d27717"
      },
      "execution_count": 18,
      "outputs": [
        {
          "output_type": "stream",
          "name": "stdout",
          "text": [
            "Number of instances created: 3\n"
          ]
        }
      ]
    },
    {
      "cell_type": "code",
      "source": [
        "#15. Implement a static method in a class that checks if a given year is a leap year.\n",
        "\n",
        "class YearChecker:\n",
        "    @staticmethod\n",
        "    def is_leap_year(year):\n",
        "        \"\"\"Check if a given year is a leap year.\"\"\"\n",
        "        if (year % 4 == 0 and year % 100 != 0) or (year % 400 == 0):\n",
        "            return True\n",
        "        return False\n",
        "\n",
        "# Example usage\n",
        "if __name__ == \"__main__\":\n",
        "    year = 2024\n",
        "    if YearChecker.is_leap_year(year):\n",
        "        print(f\"{year} is a leap year.\")\n",
        "    else:\n",
        "        print(f\"{year} is not a leap year.\")\n",
        "\n",
        "    year = 1900\n",
        "    if YearChecker.is_leap_year(year):\n",
        "        print(f\"{year} is a leap year.\")\n",
        "    else:\n",
        "        print(f\"{year} is not a leap year.\")\n"
      ],
      "metadata": {
        "id": "aezUnQywVFHK",
        "colab": {
          "base_uri": "https://localhost:8080/"
        },
        "outputId": "5450be9b-5139-432b-8129-4dc7a718e05b"
      },
      "execution_count": 19,
      "outputs": [
        {
          "output_type": "stream",
          "name": "stdout",
          "text": [
            "2024 is a leap year.\n",
            "1900 is not a leap year.\n"
          ]
        }
      ]
    }
  ]
}