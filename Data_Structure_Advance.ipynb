{
  "nbformat": 4,
  "nbformat_minor": 0,
  "metadata": {
    "colab": {
      "provenance": []
    },
    "kernelspec": {
      "name": "python3",
      "display_name": "Python 3"
    },
    "language_info": {
      "name": "python"
    }
  },
  "cells": [
    {
      "cell_type": "code",
      "execution_count": 1,
      "metadata": {
        "id": "qlKSe1kx3Jxb",
        "colab": {
          "base_uri": "https://localhost:8080/",
          "height": 35
        },
        "outputId": "8b4e2d75-186b-47ad-919a-e4b0d8eed14f"
      },
      "outputs": [
        {
          "output_type": "execute_result",
          "data": {
            "text/plain": [
              "'slliksWP'"
            ],
            "application/vnd.google.colaboratory.intrinsic+json": {
              "type": "string"
            }
          },
          "metadata": {},
          "execution_count": 1
        }
      ],
      "source": [
        "#1. Write a code to reverse a string?\n",
        "st=\"PWskills\"\n",
        "st[::-1]"
      ]
    },
    {
      "cell_type": "code",
      "source": [
        "#2. Write a code to count the numbers of vowels in string?\n",
        "input_string = \"My Name is Ajay Singh.\"\n",
        "\n",
        "vowel_count = 0\n",
        "\n",
        "vowels = \"aeiouAEIOU\"\n",
        "\n",
        "for i in input_string:\n",
        "    if i in vowels:\n",
        "        vowel_count += 1\n",
        "print(\"Number of vowels:\", vowel_count)"
      ],
      "metadata": {
        "id": "I_1AgnGvYLxF",
        "colab": {
          "base_uri": "https://localhost:8080/"
        },
        "outputId": "2d48355c-5831-48bd-c057-aa0503da0573"
      },
      "execution_count": 4,
      "outputs": [
        {
          "output_type": "stream",
          "name": "stdout",
          "text": [
            "Number of vowels: 6\n"
          ]
        }
      ]
    },
    {
      "cell_type": "code",
      "source": [
        "#3. Write a code to check if a given string is a palindrome or not?\n",
        "st=\"Pwskills\"\n",
        "result=st[::-1]\n",
        "if st==result:\n",
        "    print(\"Given string is palindrome\")\n",
        "else:\n",
        "    print(\"Given string is not palindrome\")"
      ],
      "metadata": {
        "id": "fFpoddp5YhbE",
        "colab": {
          "base_uri": "https://localhost:8080/"
        },
        "outputId": "8e79c8d3-63b1-4fd6-e8b4-3d1038f85bd6"
      },
      "execution_count": 7,
      "outputs": [
        {
          "output_type": "stream",
          "name": "stdout",
          "text": [
            "Given string is not palindrome\n"
          ]
        }
      ]
    },
    {
      "cell_type": "code",
      "source": [
        "st=\"DAD\"\n",
        "result=st[::-1]\n",
        "if st==result:\n",
        "    print(\"Given string is palindrome\")\n",
        "else:\n",
        "    print(\"Given string is not palindrome\")"
      ],
      "metadata": {
        "colab": {
          "base_uri": "https://localhost:8080/"
        },
        "id": "jae2RvrvsECo",
        "outputId": "0fd364bf-0cc8-4b75-8e46-6ae07886afc9"
      },
      "execution_count": 9,
      "outputs": [
        {
          "output_type": "stream",
          "name": "stdout",
          "text": [
            "Given string is palindrome\n"
          ]
        }
      ]
    },
    {
      "cell_type": "code",
      "source": [
        "#4. Write a code to check if two given strings are anagrams of each other?\n",
        "st1=\"PWskills\"\n",
        "st2=\"Ajay\"\n",
        "result1= sorted(st1)\n",
        "result2= sorted(st2)\n",
        "if result1==result2:\n",
        "    print(\"Given string is anagrams of each other\")\n",
        "else:\n",
        "    print(\"Given string is not anagrams of each other\")"
      ],
      "metadata": {
        "id": "GKuxRyZXY7kU",
        "colab": {
          "base_uri": "https://localhost:8080/"
        },
        "outputId": "731d253a-e602-4964-f664-146c147ad00c"
      },
      "execution_count": 10,
      "outputs": [
        {
          "output_type": "stream",
          "name": "stdout",
          "text": [
            "Given string is not anagrams of each other\n"
          ]
        }
      ]
    },
    {
      "cell_type": "code",
      "source": [
        "#5. Write a code to find all occurrences of a given substring within another string?\n",
        "import re\n",
        "def find_all_occurrences_re(string, substring):\n",
        "    matches = re.finditer(re.escape(substring), string)\n",
        "    occurrences = [match.start() for match in matches]\n",
        "    return occurrences\n",
        "\n",
        "string = \"I am going to play cricket in the stadium.\"\n",
        "substring = \"cricket\"\n",
        "print(find_all_occurrences_re(string, substring))"
      ],
      "metadata": {
        "id": "hKmjpYRPZJLM",
        "colab": {
          "base_uri": "https://localhost:8080/"
        },
        "outputId": "4a2d2c99-fbea-4f11-a100-c1618bd03f8b"
      },
      "execution_count": 12,
      "outputs": [
        {
          "output_type": "stream",
          "name": "stdout",
          "text": [
            "[19]\n"
          ]
        }
      ]
    },
    {
      "cell_type": "code",
      "source": [
        "#6. Write a code to perform basic string compression using the counts of repeated characters.\n",
        "input_string = \"aaabbccccdaa\"\n",
        "\n",
        "compressed_string = \"\"\n",
        "\n",
        "count = 1\n",
        "\n",
        "for i in range(1, len(input_string)):\n",
        "    if input_string[i] == input_string[i - 1]:\n",
        "        count += 1\n",
        "    else:\n",
        "        compressed_string += input_string[i - 1] + str(count)\n",
        "        count = 1\n",
        "\n",
        "compressed_string += input_string[-1] + str(count)\n",
        "\n",
        "print(\"Compressed string:\", compressed_string)"
      ],
      "metadata": {
        "id": "5lLSfdKVZSUM",
        "colab": {
          "base_uri": "https://localhost:8080/"
        },
        "outputId": "bc56187f-befb-4a4c-bf80-1ccd8de77e3b"
      },
      "execution_count": 13,
      "outputs": [
        {
          "output_type": "stream",
          "name": "stdout",
          "text": [
            "Compressed string: a3b2c4d1a2\n"
          ]
        }
      ]
    },
    {
      "cell_type": "code",
      "source": [
        "#7. Write a code to determine if a string has all unique characters.\n",
        "input_string = \"PWskills\"\n",
        "\n",
        "unique_characters = set(input_string)\n",
        "\n",
        "if len(unique_characters) == len(input_string):\n",
        "    print(\"The string has all unique characters.\")\n",
        "else:\n",
        "    print(\"The string does not have all unique characters.\")"
      ],
      "metadata": {
        "id": "vpsi9VM6Zwcb",
        "colab": {
          "base_uri": "https://localhost:8080/"
        },
        "outputId": "f5690b2f-00a2-45cd-a26d-b3b49a840b6a"
      },
      "execution_count": 15,
      "outputs": [
        {
          "output_type": "stream",
          "name": "stdout",
          "text": [
            "The string does not have all unique characters.\n"
          ]
        }
      ]
    },
    {
      "cell_type": "code",
      "source": [
        "#8. Write a code to convert a given string to uppercase or lowercase.\n",
        "# Uppercase\n",
        "st=\"PWskills\"\n",
        "st.upper()\n"
      ],
      "metadata": {
        "id": "f9r1Dp5UZ6tj",
        "colab": {
          "base_uri": "https://localhost:8080/",
          "height": 35
        },
        "outputId": "b74db2d2-a8ca-4007-fd83-3e1323451eb9"
      },
      "execution_count": 16,
      "outputs": [
        {
          "output_type": "execute_result",
          "data": {
            "text/plain": [
              "'PWSKILLS'"
            ],
            "application/vnd.google.colaboratory.intrinsic+json": {
              "type": "string"
            }
          },
          "metadata": {},
          "execution_count": 16
        }
      ]
    },
    {
      "cell_type": "code",
      "source": [
        "# Lowercase\n",
        "st.lower()"
      ],
      "metadata": {
        "colab": {
          "base_uri": "https://localhost:8080/",
          "height": 35
        },
        "id": "b26CuCAy5X-C",
        "outputId": "45773e87-f0db-4a3c-9f2a-c908583c0415"
      },
      "execution_count": 17,
      "outputs": [
        {
          "output_type": "execute_result",
          "data": {
            "text/plain": [
              "'pwskills'"
            ],
            "application/vnd.google.colaboratory.intrinsic+json": {
              "type": "string"
            }
          },
          "metadata": {},
          "execution_count": 17
        }
      ]
    },
    {
      "cell_type": "code",
      "source": [
        "#9. Write a code to count the number of words in a string.\n",
        "st=\"Hello, PWskills\"\n",
        "word=st.split()\n",
        "len(word)"
      ],
      "metadata": {
        "id": "f3NJlvV2aHHr",
        "colab": {
          "base_uri": "https://localhost:8080/"
        },
        "outputId": "8a55a60c-f9c6-49e9-882e-ceb95baa3398"
      },
      "execution_count": 18,
      "outputs": [
        {
          "output_type": "execute_result",
          "data": {
            "text/plain": [
              "2"
            ]
          },
          "metadata": {},
          "execution_count": 18
        }
      ]
    },
    {
      "cell_type": "code",
      "source": [
        "#10. Write a code to concatenate two strings without the +operator.\n",
        "st1=\"Hello\"\n",
        "st2=\"PWskills\"\n",
        "result= \" \".join([st1, st2])\n",
        "result"
      ],
      "metadata": {
        "id": "-EmKcafeaQXy",
        "colab": {
          "base_uri": "https://localhost:8080/",
          "height": 35
        },
        "outputId": "e9b185c7-d147-40ef-a3fc-c93a09ef6db7"
      },
      "execution_count": 19,
      "outputs": [
        {
          "output_type": "execute_result",
          "data": {
            "text/plain": [
              "'Hello PWskills'"
            ],
            "application/vnd.google.colaboratory.intrinsic+json": {
              "type": "string"
            }
          },
          "metadata": {},
          "execution_count": 19
        }
      ]
    },
    {
      "cell_type": "code",
      "source": [
        "#11. Write a code to remove all occurrences of a specific element from a list.\n",
        "def remove_all_occurrences(lst, element):\n",
        "    return [x for x in lst if x != element]\n",
        "\n",
        "my_list = [1, 2, 3, 4, 3, 5, 2, 6]\n",
        "element_to_remove = 3\n",
        "new_list = remove_all_occurrences(my_list, element_to_remove)\n",
        "print(\"List after removal:\", new_list)"
      ],
      "metadata": {
        "id": "6u_MG9P2agGc",
        "colab": {
          "base_uri": "https://localhost:8080/"
        },
        "outputId": "6303bd03-5b38-4082-e00a-ecb27706622f"
      },
      "execution_count": 21,
      "outputs": [
        {
          "output_type": "stream",
          "name": "stdout",
          "text": [
            "List after removal: [1, 2, 4, 5, 2, 6]\n"
          ]
        }
      ]
    },
    {
      "cell_type": "code",
      "source": [
        "#12. Implement a code to find the second largest number in a given list of integers.\n",
        "def find_second_largest(numbers):\n",
        "    # Remove duplicates by converting the list to a set\n",
        "    unique_numbers = set(numbers)\n",
        "\n",
        "    # Check if there are at least two unique numbers\n",
        "    if len(unique_numbers) < 2:\n",
        "        return None  # Return None if there's no second largest number\n",
        "\n",
        "    # Convert the set back to a list and sort it\n",
        "    sorted_numbers = sorted(unique_numbers, reverse=True)\n",
        "\n",
        "    # Return the second largest number\n",
        "    return sorted_numbers[1]\n",
        "\n",
        "numbers = [4, 1, 5, 2, 3, 5, 4]\n",
        "second_largest = find_second_largest(numbers)\n",
        "if second_largest is not None:\n",
        "    print(\"The second largest number is:\", second_largest)\n",
        "else:\n",
        "    print(\"There is no second largest number.\")"
      ],
      "metadata": {
        "id": "0D1lFe7kasYb",
        "colab": {
          "base_uri": "https://localhost:8080/"
        },
        "outputId": "41f180e0-8d87-4ca8-8d59-881c5672578e"
      },
      "execution_count": 22,
      "outputs": [
        {
          "output_type": "stream",
          "name": "stdout",
          "text": [
            "The second largest number is: 4\n"
          ]
        }
      ]
    },
    {
      "cell_type": "code",
      "source": [
        "#13. Create a code to count the occurrences of each element from a list and return a dictionary with elements as keys and their counts as values.def count_occurrences_manual(lst):\n",
        "def count_occurrences_manual(lst):\n",
        "    # Initialize an empty dictionary\n",
        "    counts = {}\n",
        "\n",
        "    # Iterate through each element in the list\n",
        "    for element in lst:\n",
        "        # If the element is already in the dictionary, increment its count\n",
        "        if element in counts:\n",
        "            counts[element] += 1\n",
        "        # If the element is not in the dictionary, add it with a count of 1\n",
        "        else:\n",
        "            counts[element] = 1\n",
        "\n",
        "    return counts\n",
        "\n",
        "# Example usage\n",
        "my_list = [1, 2, 2, 3, 4, 4, 4, 5]\n",
        "occurrences_manual = count_occurrences_manual(my_list)\n",
        "print(\"Occurrences using manual method:\", occurrences_manual)"
      ],
      "metadata": {
        "id": "txXRcxkNa7GP",
        "colab": {
          "base_uri": "https://localhost:8080/"
        },
        "outputId": "f2aefc37-fcd1-488d-beae-60e19cb1903f"
      },
      "execution_count": 27,
      "outputs": [
        {
          "output_type": "stream",
          "name": "stdout",
          "text": [
            "Occurrences using manual method: {1: 1, 2: 2, 3: 1, 4: 3, 5: 1}\n"
          ]
        }
      ]
    },
    {
      "cell_type": "code",
      "source": [
        "#14. Write a code to reverse a list in-place without using any built-in reverse functions.\n",
        "li=[1,2,3,4,5,6,7]\n",
        "result=li[::-1]\n",
        "result"
      ],
      "metadata": {
        "id": "yz3lp5jgbJXb",
        "colab": {
          "base_uri": "https://localhost:8080/"
        },
        "outputId": "2d0aa4b4-c9f8-4b28-b619-253eaa0b760e"
      },
      "execution_count": 28,
      "outputs": [
        {
          "output_type": "execute_result",
          "data": {
            "text/plain": [
              "[7, 6, 5, 4, 3, 2, 1]"
            ]
          },
          "metadata": {},
          "execution_count": 28
        }
      ]
    },
    {
      "cell_type": "code",
      "source": [
        "#15. Implement a code to find and remove duplicates from a list while preserving the original order of elements.\n",
        "original_list = [1, 2, 2, 3, 4, 4, 5, 6, 6, 7]\n",
        "\n",
        "unique_list = []\n",
        "\n",
        "seen = set()\n",
        "\n",
        "for element in original_list:\n",
        "    if element not in seen:\n",
        "        unique_list.append(element)\n",
        "        seen.add(element)\n",
        "\n",
        "print(\"List without duplicates:\", unique_list)"
      ],
      "metadata": {
        "id": "zt9dTQwpbw1U",
        "colab": {
          "base_uri": "https://localhost:8080/"
        },
        "outputId": "96bc704b-6aa2-4124-f5ac-4e659e02ce47"
      },
      "execution_count": 29,
      "outputs": [
        {
          "output_type": "stream",
          "name": "stdout",
          "text": [
            "List without duplicates: [1, 2, 3, 4, 5, 6, 7]\n"
          ]
        }
      ]
    },
    {
      "cell_type": "code",
      "source": [
        "#16. Create a code to check if a given list is sorted(either in ascending or descending order) or not.\n",
        "my_list = [1, 2, 3, 4, 5]\n",
        "\n",
        "is_ascending = True\n",
        "is_descending = True\n",
        "\n",
        "for i in range(len(my_list) - 1):\n",
        "    if my_list[i] < my_list[i + 1]:\n",
        "        is_descending = False\n",
        "    elif my_list[i] > my_list[i + 1]:\n",
        "        is_ascending = False\n",
        "\n",
        "if is_ascending:\n",
        "    print(\"The list is sorted in ascending order.\")\n",
        "elif is_descending:\n",
        "    print(\"The list is sorted in descending order.\")\n",
        "else:\n",
        "    print(\"The list is not sorted.\")"
      ],
      "metadata": {
        "id": "qj2yWXuRcYB8",
        "colab": {
          "base_uri": "https://localhost:8080/"
        },
        "outputId": "7e10c88c-36d5-4c0c-82ce-0c87b880f6cd"
      },
      "execution_count": 30,
      "outputs": [
        {
          "output_type": "stream",
          "name": "stdout",
          "text": [
            "The list is sorted in ascending order.\n"
          ]
        }
      ]
    },
    {
      "cell_type": "code",
      "source": [
        "#17. Write a code to merge two sorted lists into a single sorted list.\n",
        "list1 = [1, 3, 5, 7]\n",
        "list2 = [2, 4, 6, 8]\n",
        "\n",
        "i, j = 0, 0\n",
        "\n",
        "merged_list = []\n",
        "\n",
        "while i < len(list1) and j < len(list2):\n",
        "    if list1[i] < list2[j]:\n",
        "        merged_list.append(list1[i])\n",
        "        i += 1\n",
        "    else:\n",
        "        merged_list.append(list2[j])\n",
        "        j += 1\n",
        "\n",
        "while i < len(list1):\n",
        "    merged_list.append(list1[i])\n",
        "    i += 1\n",
        "\n",
        "while j < len(list2):\n",
        "    merged_list.append(list2[j])\n",
        "    j += 1\n",
        "\n",
        "print(\"Merged sorted list:\", merged_list)"
      ],
      "metadata": {
        "id": "JEQKls3OcqjM",
        "colab": {
          "base_uri": "https://localhost:8080/"
        },
        "outputId": "b0e2abb3-e6dd-4fad-bdd9-1e99b97e07f2"
      },
      "execution_count": 31,
      "outputs": [
        {
          "output_type": "stream",
          "name": "stdout",
          "text": [
            "Merged sorted list: [1, 2, 3, 4, 5, 6, 7, 8]\n"
          ]
        }
      ]
    },
    {
      "cell_type": "code",
      "source": [
        "#18. Implement a code to find the intersection of two given lists.\n",
        "li1=[1,2,3,4,6]\n",
        "li2=[8,6,2,5,7]\n",
        "print(li1,li2)\n",
        "set1= set(li1)\n",
        "set2= set(li2)\n",
        "print(set1,set2)\n",
        "set1.intersection(set2)"
      ],
      "metadata": {
        "id": "2ji2m_Lcc1aE",
        "colab": {
          "base_uri": "https://localhost:8080/"
        },
        "outputId": "88bf9860-5760-4a0b-82d5-519abf0ba344"
      },
      "execution_count": 32,
      "outputs": [
        {
          "output_type": "stream",
          "name": "stdout",
          "text": [
            "[1, 2, 3, 4, 6] [8, 6, 2, 5, 7]\n",
            "{1, 2, 3, 4, 6} {2, 5, 6, 7, 8}\n"
          ]
        },
        {
          "output_type": "execute_result",
          "data": {
            "text/plain": [
              "{2, 6}"
            ]
          },
          "metadata": {},
          "execution_count": 32
        }
      ]
    },
    {
      "cell_type": "code",
      "source": [
        "#19. Create a code to find the union of two lists without duplicates.\n",
        "li1=[1,2,3,4,6]\n",
        "li2=[8,6,2,5,7]\n",
        "print(li1,li2)\n",
        "set1= set(li1)\n",
        "set2= set(li2)\n",
        "print(set1,set2)\n",
        "set1.union(set2)"
      ],
      "metadata": {
        "id": "LMkA2UF-dOvE",
        "colab": {
          "base_uri": "https://localhost:8080/"
        },
        "outputId": "1f1660d8-0504-4660-dcf6-0c766501b51c"
      },
      "execution_count": 33,
      "outputs": [
        {
          "output_type": "stream",
          "name": "stdout",
          "text": [
            "[1, 2, 3, 4, 6] [8, 6, 2, 5, 7]\n",
            "{1, 2, 3, 4, 6} {2, 5, 6, 7, 8}\n"
          ]
        },
        {
          "output_type": "execute_result",
          "data": {
            "text/plain": [
              "{1, 2, 3, 4, 5, 6, 7, 8}"
            ]
          },
          "metadata": {},
          "execution_count": 33
        }
      ]
    },
    {
      "cell_type": "code",
      "source": [
        "#20. Write a code to shuffle a given list randomly without using any built-in shuffle functions.\n",
        "import random\n",
        "\n",
        "def fisher_yates_shuffle(lst):\n",
        "    n = len(lst)\n",
        "\n",
        "    for i in range(n - 1, 0, -1):\n",
        "        j = random.randint(0, i)\n",
        "        lst[i], lst[j] = lst[j], lst[i]\n",
        "        return lst\n",
        "\n",
        "my_list = [1, 2, 3, 4, 5]\n",
        "shuffled_list = fisher_yates_shuffle(my_list)\n",
        "print(shuffled_list)"
      ],
      "metadata": {
        "id": "WSW_qCBOdii0",
        "colab": {
          "base_uri": "https://localhost:8080/"
        },
        "outputId": "21d32765-dbe0-45ff-8dec-2257d7e11bbb"
      },
      "execution_count": 38,
      "outputs": [
        {
          "output_type": "stream",
          "name": "stdout",
          "text": [
            "[5, 2, 3, 4, 1]\n"
          ]
        }
      ]
    },
    {
      "cell_type": "code",
      "source": [
        "#21. Write a code that takes two tuples as input and returns a new tuple containing elements that are common to both input tuples.\n",
        "tup1=(1,2,8,9,5)\n",
        "tup2=(8,9,10,2,1)\n",
        "print(tup1,tup2)\n",
        "set1=set(tup1)\n",
        "set2=set(tup2)\n",
        "print(set1,set2)\n",
        "common_elements=set1.intersection(set2)\n",
        "common_elements"
      ],
      "metadata": {
        "id": "YlEVXaZUd5nE",
        "colab": {
          "base_uri": "https://localhost:8080/"
        },
        "outputId": "39f992ce-50b4-4af5-d9a5-26e6607e1f80"
      },
      "execution_count": 39,
      "outputs": [
        {
          "output_type": "stream",
          "name": "stdout",
          "text": [
            "(1, 2, 8, 9, 5) (8, 9, 10, 2, 1)\n",
            "{1, 2, 5, 8, 9} {1, 2, 8, 9, 10}\n"
          ]
        },
        {
          "output_type": "execute_result",
          "data": {
            "text/plain": [
              "{1, 2, 8, 9}"
            ]
          },
          "metadata": {},
          "execution_count": 39
        }
      ]
    },
    {
      "cell_type": "code",
      "source": [
        "#22. Create a code that prompts the user to enter two sets of integers seperated by commas.Then print the intersection of these two sets.\n",
        "set1_input = input(\"Enter the first set of integers, separated by commas: \")\n",
        "set2_input = input(\"Enter the second set of integers, separated by commas: \")\n",
        "\n",
        "set1_list = [int(x) for x in set1_input.split(\",\")]\n",
        "set2_list = [int(x) for x in set2_input.split(\",\")]\n",
        "\n",
        "intersection = []\n",
        "\n",
        "for num in set1_list:\n",
        "    if num in set2_list and num not in intersection:\n",
        "        intersection.append(num)\n",
        "\n",
        "print(\"The intersection of the two sets is:\", intersection)"
      ],
      "metadata": {
        "id": "yuOPLD7qeaT9",
        "colab": {
          "base_uri": "https://localhost:8080/"
        },
        "outputId": "4f00fde1-8a49-4d70-ab8b-dc2984719327"
      },
      "execution_count": 42,
      "outputs": [
        {
          "output_type": "stream",
          "name": "stdout",
          "text": [
            "Enter the first set of integers, separated by commas: 1,2,3,4,5\n",
            "Enter the second set of integers, separated by commas: 3,4,5,6,7,8\n",
            "The intersection of the two sets is: [3, 4, 5]\n"
          ]
        }
      ]
    },
    {
      "cell_type": "code",
      "source": [
        "#23. Write a code to concatenate two tuples.The function should take two tuples as input and return a new tuple containing elements from both input tuples.\n",
        "def concatenate_tuples(tuple1, tuple2):\n",
        "    return tuple1 + tuple2\n",
        "\n",
        "tuple_a = (1, 2, 3)\n",
        "tuple_b = (4, 5, 6)\n",
        "result = concatenate_tuples(tuple_a, tuple_b)\n",
        "print(result)"
      ],
      "metadata": {
        "id": "apxF4Cize5gE",
        "colab": {
          "base_uri": "https://localhost:8080/"
        },
        "outputId": "760dc873-1eb1-4bda-e3d2-332defa59ed9"
      },
      "execution_count": 48,
      "outputs": [
        {
          "output_type": "stream",
          "name": "stdout",
          "text": [
            "(1, 2, 3, 4, 5, 6)\n"
          ]
        }
      ]
    },
    {
      "cell_type": "code",
      "source": [
        "#24. Develop a code that prompts the user to input two sets of strings. Then, print the elements that are present in the first set but not in the second set.\n",
        "first_set_input = input(\"Enter the elements of the first set, separated by spaces: \")\n",
        "second_set_input = input(\"Enter the elements of the second set, separated by spaces: \")\n",
        "\n",
        "first_set_list = first_set_input.split()\n",
        "second_set_list = second_set_input.split()\n",
        "\n",
        "unique_elements = []\n",
        "\n",
        "for element in first_set_list:\n",
        "    if element not in second_set_list:\n",
        "        unique_elements.append(element)\n",
        "\n",
        "print(\"Elements in the first set but not in the second set:\")\n",
        "print(\" \".join(unique_elements))"
      ],
      "metadata": {
        "id": "N8wDUDYIfnMc",
        "colab": {
          "base_uri": "https://localhost:8080/"
        },
        "outputId": "0f962714-5821-4b2a-8d46-f8e29d91810e"
      },
      "execution_count": 50,
      "outputs": [
        {
          "output_type": "stream",
          "name": "stdout",
          "text": [
            "Enter the elements of the first set, separated by spaces: pwskills kolkata delhi datascience\n",
            "Enter the elements of the second set, separated by spaces: kolkata lucknow datascience jaipur\n",
            "Elements in the first set but not in the second set:\n",
            "pwskills delhi\n"
          ]
        }
      ]
    },
    {
      "cell_type": "code",
      "source": [
        "#25. Create a code that takes a tuple and two integers as input. The function should return a new tuple containing elements from the original tuple within the specified range of indices.\n",
        "def slice_tuple(original_tuple, start_index, end_index):\n",
        "    new_tuple = original_tuple[start_index:end_index]\n",
        "    return new_tuple\n",
        "\n",
        "original_tuple = (1, 2, 3, 4, 5, 6, 7, 8, 9, 10)\n",
        "start_index = 3\n",
        "end_index = 8\n",
        "\n",
        "result = slice_tuple(original_tuple, start_index, end_index)\n",
        "print(result)"
      ],
      "metadata": {
        "id": "WgOY-wUlhNEF",
        "colab": {
          "base_uri": "https://localhost:8080/"
        },
        "outputId": "74594a55-2b4b-4626-9156-3719a766c2c8"
      },
      "execution_count": 53,
      "outputs": [
        {
          "output_type": "stream",
          "name": "stdout",
          "text": [
            "(4, 5, 6, 7, 8)\n"
          ]
        }
      ]
    },
    {
      "cell_type": "code",
      "source": [
        "#26. Write a code that prompts the user to input two sets of characters. Then, print the union of these two sets.\n",
        "c1=\"I love to play\"\n",
        "c2=\"Cricket\"\n",
        "print(c1,c2)\n",
        "set1=set(c1.split())\n",
        "set2=set(c2.split())\n",
        "print(set1,set2)\n",
        "result= set1.union(set2)\n",
        "result"
      ],
      "metadata": {
        "id": "JnnRYjdfhjQc",
        "colab": {
          "base_uri": "https://localhost:8080/"
        },
        "outputId": "f7210d9d-7169-429f-db7d-f8a390d844ad"
      },
      "execution_count": 54,
      "outputs": [
        {
          "output_type": "stream",
          "name": "stdout",
          "text": [
            "I love to play Cricket\n",
            "{'I', 'to', 'play', 'love'} {'Cricket'}\n"
          ]
        },
        {
          "output_type": "execute_result",
          "data": {
            "text/plain": [
              "{'Cricket', 'I', 'love', 'play', 'to'}"
            ]
          },
          "metadata": {},
          "execution_count": 54
        }
      ]
    },
    {
      "cell_type": "code",
      "source": [
        "#27.  Develop a code that takes a tuple of integers as input. The function should return the maximum and minimum values from the tuple using tuple unpacking.\n",
        "def find_max_min(numbers):\n",
        "    max_value, min_value = numbers[0], numbers[0]\n",
        "\n",
        "    for number in numbers[1:]:\n",
        "        if number > max_value:\n",
        "            max_value = number\n",
        "        if number < min_value:\n",
        "            min_value = number\n",
        "    return (max_value, min_value)\n",
        "\n",
        "numbers_tuple = (3, 4, 5, 9, 2, 6, 10, 3, 5)\n",
        "max_value, min_value = find_max_min(numbers_tuple)\n",
        "\n",
        "print(\"Maximum value:\", max_value)\n",
        "print(\"Minimum value:\", min_value)"
      ],
      "metadata": {
        "id": "Ro5L0FCMh6HU",
        "colab": {
          "base_uri": "https://localhost:8080/"
        },
        "outputId": "2d495e51-f18c-4879-9076-8cb8edb2be09"
      },
      "execution_count": 58,
      "outputs": [
        {
          "output_type": "stream",
          "name": "stdout",
          "text": [
            "Maximum value: 10\n",
            "Minimum value: 2\n"
          ]
        }
      ]
    },
    {
      "cell_type": "code",
      "source": [
        "#28. Create a code that defines two sets of integers. Then, print the union, intersection, and difference of these two sets.\n",
        "s1={1, 2, 3, 4, 5, 6}\n",
        "s2={5, 6, 7, 8, 9, 10}\n",
        "print(s1,s2)\n",
        "print(s1.union(s2))\n",
        "print(s1.intersection(s2))\n",
        "print(s1.difference(s2))"
      ],
      "metadata": {
        "id": "_ChFmjqciXeM",
        "colab": {
          "base_uri": "https://localhost:8080/"
        },
        "outputId": "a3f3d58e-e45f-4e77-d625-5c813a22e793"
      },
      "execution_count": 59,
      "outputs": [
        {
          "output_type": "stream",
          "name": "stdout",
          "text": [
            "{1, 2, 3, 4, 5, 6} {5, 6, 7, 8, 9, 10}\n",
            "{1, 2, 3, 4, 5, 6, 7, 8, 9, 10}\n",
            "{5, 6}\n",
            "{1, 2, 3, 4}\n"
          ]
        }
      ]
    },
    {
      "cell_type": "code",
      "source": [
        "#29.  Write a code that takes a tuple and an element as input. The function should return the count of occurrences of the given element in the tuple.\n",
        "tup=(1, 2, 3, 8, 9, 2, 12, 16, 17, 12, 1, 2)\n",
        "tup.count(2)"
      ],
      "metadata": {
        "id": "J1QgvUOJjElE",
        "colab": {
          "base_uri": "https://localhost:8080/"
        },
        "outputId": "5953bf53-32ed-473e-b0ce-095c39efb4bf"
      },
      "execution_count": 61,
      "outputs": [
        {
          "output_type": "execute_result",
          "data": {
            "text/plain": [
              "3"
            ]
          },
          "metadata": {},
          "execution_count": 61
        }
      ]
    },
    {
      "cell_type": "code",
      "source": [
        "#30. Develop a code that prompts the user to input two sets of strings. Then, print the symmetric difference of these two sets.\n",
        "s1=\"Artificial Intelligence\"\n",
        "s2=\"Data Science\"\n",
        "set1=set(s1.split())\n",
        "set2=set(s2.split())\n",
        "print(set1,set2)\n",
        "result=set1.symmetric_difference(set2)\n",
        "result"
      ],
      "metadata": {
        "id": "7LhEz3qKjVwd",
        "colab": {
          "base_uri": "https://localhost:8080/"
        },
        "outputId": "073c9b5a-a561-4a06-f55e-03b508a3582e"
      },
      "execution_count": 62,
      "outputs": [
        {
          "output_type": "stream",
          "name": "stdout",
          "text": [
            "{'Intelligence', 'Artificial'} {'Data', 'Science'}\n"
          ]
        },
        {
          "output_type": "execute_result",
          "data": {
            "text/plain": [
              "{'Artificial', 'Data', 'Intelligence', 'Science'}"
            ]
          },
          "metadata": {},
          "execution_count": 62
        }
      ]
    },
    {
      "cell_type": "code",
      "source": [
        "#31. Write a code that takes a list of words as input and returns a dictionary where the keys are unique words and the values are the frequencies of those words in the input list.\n",
        "def word_frequencies(word_list):\n",
        "    frequency_dict = {}\n",
        "\n",
        "    for word in word_list:\n",
        "        if word in frequency_dict:\n",
        "            frequency_dict[word] += 1\n",
        "        else:\n",
        "            frequency_dict[word] = 1\n",
        "\n",
        "    return frequency_dict\n",
        "\n",
        "words = [\"BMW\", \"AUDDI\", \"BMW\", \"MERCEDES\", \"AUDDI\", \"MERCEDES\", \"BMW\"]\n",
        "frequencies = word_frequencies(words)\n",
        "print(frequencies)"
      ],
      "metadata": {
        "id": "o1MIs9f6jeBb",
        "colab": {
          "base_uri": "https://localhost:8080/"
        },
        "outputId": "e6c5f2c4-8c01-4011-cb94-3f5b2e4f9a98"
      },
      "execution_count": 65,
      "outputs": [
        {
          "output_type": "stream",
          "name": "stdout",
          "text": [
            "{'BMW': 3, 'AUDDI': 2, 'MERCEDES': 2}\n"
          ]
        }
      ]
    },
    {
      "cell_type": "code",
      "source": [
        "#32. Write a code that takes two dictionaries as input and merges them into a single dictionary. If there are common keys, the values should be added together.\n",
        "def merge_dictionaries(dict1, dict2):\n",
        "    merged_dict = dict1.copy()\n",
        "\n",
        "    for key, value in dict2.items():\n",
        "        if key in merged_dict:\n",
        "            merged_dict[key] += value\n",
        "        else:\n",
        "            merged_dict[key] = value\n",
        "    return merged_dict\n",
        "\n",
        "dict1 = {'a': 1, 'b': 2, 'c': 3}\n",
        "dict2 = {'b': 3, 'c': 4, 'd': 5}\n",
        "\n",
        "result = merge_dictionaries(dict1, dict2)\n",
        "print(result)"
      ],
      "metadata": {
        "id": "0LOu9Htejo8l",
        "colab": {
          "base_uri": "https://localhost:8080/"
        },
        "outputId": "baf6b00d-6af2-4e83-8bcf-bc2050d133cb"
      },
      "execution_count": 66,
      "outputs": [
        {
          "output_type": "stream",
          "name": "stdout",
          "text": [
            "{'a': 1, 'b': 5, 'c': 7, 'd': 5}\n"
          ]
        }
      ]
    },
    {
      "cell_type": "code",
      "source": [
        "#33. Write a code to access a value in a nested dictionary. The function should take the dictionary and a list of keys as input, and return the corresponding value. If any of the keys do not exist in the dictionary, the function should return None.\n",
        "def get_nested_value(d, keys):\n",
        "    current_value = d\n",
        "    for key in keys:\n",
        "        if isinstance(current_value, dict) and key in current_value:\n",
        "            current_value = current_value[key]\n",
        "        else:\n",
        "            return None\n",
        "    return current_value\n",
        "\n",
        "nested_dict = {\n",
        "    'a': {\n",
        "        'b': {\n",
        "            'c': 42\n",
        "        }\n",
        "    }\n",
        "}\n",
        "\n",
        "keys = ['a', 'b', 'c']\n",
        "value = get_nested_value(nested_dict, keys)\n",
        "print(value)\n",
        "\n",
        "keys = ['a', 'b', 'd']\n",
        "value = get_nested_value(nested_dict, keys)\n",
        "print(value)"
      ],
      "metadata": {
        "id": "dS2emb44jxKt",
        "colab": {
          "base_uri": "https://localhost:8080/"
        },
        "outputId": "214bccd0-c22a-4c4d-bf0b-2313791a3f9c"
      },
      "execution_count": 67,
      "outputs": [
        {
          "output_type": "stream",
          "name": "stdout",
          "text": [
            "42\n",
            "None\n"
          ]
        }
      ]
    },
    {
      "cell_type": "code",
      "source": [
        "#34. Write a code that takes a dictionary as input and returns a sorted version of it based on the values. You can choose whether to sort in ascending or descending order.\n",
        "def sort_dict_by_values(d, descending=False):\n",
        "    sorted_items = sorted(d.items(), key=lambda item: item[1], reverse=descending)\n",
        "    sorted_dict = dict(sorted_items)\n",
        "    return sorted_dict\n",
        "\n",
        "my_dict = {'a': 3, 'C': 1, 'B': 2}\n",
        "\n",
        "sorted_dict_asc = sort_dict_by_values(my_dict)\n",
        "print(sorted_dict_asc)\n",
        "\n",
        "sorted_dict_desc = sort_dict_by_values(my_dict, descending=True)\n",
        "print(sorted_dict_desc)"
      ],
      "metadata": {
        "id": "GPUQ8dAEj97t",
        "colab": {
          "base_uri": "https://localhost:8080/"
        },
        "outputId": "8f55b6b2-fa5f-478a-cef0-16f7fc597bee"
      },
      "execution_count": 71,
      "outputs": [
        {
          "output_type": "stream",
          "name": "stdout",
          "text": [
            "{'C': 1, 'B': 2, 'a': 3}\n",
            "{'a': 3, 'B': 2, 'C': 1}\n"
          ]
        }
      ]
    },
    {
      "cell_type": "code",
      "source": [
        "#35. Write a code that inverts a dictionary, swapping keys and values. Ensure that the inverted dictionary correctly handles cases where multiple keys have the same value by storing the keys as a list in the inverted dictionary.\n",
        "def invert_dictionary(d):\n",
        "    inverted_dict = {}\n",
        "    for key, value in d.items():\n",
        "        if value in inverted_dict:\n",
        "            inverted_dict[value].append(key)\n",
        "        else:\n",
        "            inverted_dict[value] = [key]\n",
        "    return inverted_dict\n",
        "\n",
        "original_dict = {'a': 1, 'b': 2, 'c': 1, 'd': 3}\n",
        "\n",
        "inverted_dict = invert_dictionary(original_dict)\n",
        "print(inverted_dict)"
      ],
      "metadata": {
        "id": "wMinArlgkGaL",
        "colab": {
          "base_uri": "https://localhost:8080/"
        },
        "outputId": "597d5fb7-0fea-48f6-aa57-2dc65e8fd4c9"
      },
      "execution_count": 72,
      "outputs": [
        {
          "output_type": "stream",
          "name": "stdout",
          "text": [
            "{1: ['a', 'c'], 2: ['b'], 3: ['d']}\n"
          ]
        }
      ]
    }
  ]
}