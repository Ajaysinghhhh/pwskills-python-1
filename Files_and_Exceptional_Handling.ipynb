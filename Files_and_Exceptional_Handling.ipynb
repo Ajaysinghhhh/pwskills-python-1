{
  "nbformat": 4,
  "nbformat_minor": 0,
  "metadata": {
    "colab": {
      "provenance": []
    },
    "kernelspec": {
      "name": "python3",
      "display_name": "Python 3"
    },
    "language_info": {
      "name": "python"
    }
  },
  "cells": [
    {
      "cell_type": "code",
      "execution_count": null,
      "metadata": {
        "id": "ViKW6SXrrhq3"
      },
      "outputs": [],
      "source": [
        "#Q1 Discuss the scenarios where multithreading is preferable to multiprocessing and scenarios where multiprocessing is a better choice.\n",
        "# ANS) Multithreading:-\n",
        "#i) Multithreading excels in situations where tasks spend a lot of time waiting for I/O operations to complete, such as reading from or writing to files, network operations, or user input. Threads can handle multiple I/O operations concurrently, improving efficiency.\n",
        "#ii) Threads share the same memory space, making it easier to share data between them without needing complex inter-process communication (IPC) mechanisms. This can be advantageous if you have tasks that need to frequently access and update shared data.\n",
        "#iii) Threads are generally lighter weight compared to processes. They require less memory and have less overhead in terms of creation and context switching, making them suitable for applications where the overhead of spawning and managing processes is significant.\n",
        "\n",
        "#   Multiprocessing:-\n",
        "#i) For tasks that require significant computational power and can benefit from parallel execution, multiprocessing is often preferable. Processes run in separate memory spaces, allowing them to run truly in parallel on multiple CPU cores.\n",
        "#ii) Multiprocessing provides better isolation between tasks compared to multithreading. If tasks are completely independent or need to be isolated to prevent interference, processes are a better choice because they don't share memory space.\n",
        "#iii) Since processes are isolated, a crash in one process does not necessarily affect others. This can improve the stability and fault tolerance of the application. If one process encounters an issue, it can be terminated and restarted without affecting the overall system.\n",
        "\n",
        "\n",
        "# choose multithreading for I/O-bound tasks, where shared memory and lower overhead are beneficial, and multiprocessing for CPU-bound tasks requiring true parallelism, isolation, and bypassing limitations like the GIL."
      ]
    },
    {
      "cell_type": "code",
      "source": [
        "#Q2 Describe what a process pool is and how it helps in managing multiple processes efficiently.\n",
        "#ANS) A process pool is a predefined set of worker processes that are created and managed by a pool manager. These worker processes sit idle until they are assigned tasks to execute. Once a task is complete, the process can be reused for another task rather than being terminated.\n",
        "\n",
        "#1. Reduced Overhead:\n",
        "#i) Creation and Destruction Costs: Creating a new process involves significant overhead, including time for initialization and memory allocation. By reusing processes, a process pool minimizes these costs.\n",
        "#ii) Resource Utilization: Processes are kept alive and reused, which optimizes system resource usage and reduces the frequency of expensive operations.\n",
        "\n",
        "#2. Improved Performance:\n",
        "#i) Faster Task Execution: Since processes are already running and waiting for tasks, tasks can be assigned and executed more quickly.\n",
        "#ii) Efficient Parallelism: A fixed number of processes ensures that the system can efficiently handle concurrent tasks without the overhead of starting and stopping processes.\n",
        "\n",
        "#3. Controlled Concurrency:\n",
        "\n",
        "#i) System Load Management: The process pool limits the number of concurrent processes, preventing the system from being overwhelmed by too many simultaneous tasks.\n",
        "#ii) Avoiding Resource Contention: By managing the number of active processes, the pool helps avoid resource contention and potential performance degradation.\n",
        "\n",
        "#4. Simplified Code Management:\n",
        "\n",
        "#i) Task Scheduling: The process pool handles the scheduling and distribution of tasks to processes, simplifying the implementation of parallel processing.\n",
        "#ii) Error Handling: Centralized management of processes makes it easier to handle errors and manage process lifecycles.\n",
        "\n",
        "#5. Scalability:\n",
        "\n",
        "# Adaptable Pool Size: The size of the pool can be adjusted based on workload and system capabilities, allowing for scalable performance improvements."
      ],
      "metadata": {
        "id": "izcgfp3RsO9w"
      },
      "execution_count": null,
      "outputs": []
    },
    {
      "cell_type": "code",
      "source": [
        "#Q3 Explain what multiprocessing is and why it is used in Python programs.\n",
        "#ANS) Multiprocessing involves creating and managing multiple processes that run concurrently. Each process runs in its own memory space and operates independently of others.\n",
        "#In contrast to multithreading, where threads share the same memory space and can face issues like the Global Interpreter Lock (GIL) in Python, multiprocessing provides true parallelism by using separate memory spaces for each process.\n",
        "\n",
        "# Multiprocessing is used in Python programs primarily to overcome limitations and enhance performance in scenarios where tasks can be parallelized.\n",
        "# Multiprocessing in Python is used to:\n",
        "\n",
        "# Overcome the GIL Limitation: Allow true parallelism and full CPU utilization.\n",
        "# Enhance Performance: Speed up CPU-bound tasks by distributing workload across multiple processes.\n",
        "# Utilize Multicore Systems: Make efficient use of multiple CPU cores.\n",
        "# Ensure Fault Isolation: Improve stability and error containment.\n",
        "# Simplify Parallelism: Provide high-level abstractions to manage processes easily.\n",
        "# Handle Independent Tasks: Execute tasks that do not depend on shared state efficiently."
      ],
      "metadata": {
        "id": "4BcdWqFssSq-"
      },
      "execution_count": null,
      "outputs": []
    },
    {
      "cell_type": "code",
      "source": [
        "#Q4 Write a Python program using multithreading where one thread adds numbers to a list, and another thread removes numbers from the list. Implement a mechanism to avoid race conditions using threading.Lock.\n",
        "import threading\n",
        "import time\n",
        "\n",
        "# Shared list and lock\n",
        "shared_list = []\n",
        "lock = threading.Lock()\n",
        "\n",
        "def add_numbers():\n",
        "    for i in range(1, 11):\n",
        "        with lock:\n",
        "            shared_list.append(i)\n",
        "            print(f'Added {i}')\n",
        "        time.sleep(0.1)  # Simulate some delay\n",
        "\n",
        "def remove_numbers():\n",
        "    while True:\n",
        "        time.sleep(0.2)  # Simulate some delay between removals\n",
        "        with lock:\n",
        "            if shared_list:\n",
        "                removed = shared_list.pop(0)\n",
        "                print(f'Removed {removed}')\n",
        "            else:\n",
        "                # Exit the loop if the list is empty\n",
        "                break\n",
        "\n",
        "def main():\n",
        "    # Create threads\n",
        "    add_thread = threading.Thread(target=add_numbers)\n",
        "    remove_thread = threading.Thread(target=remove_numbers)\n",
        "\n",
        "    # Start threads\n",
        "    add_thread.start()\n",
        "    remove_thread.start()\n",
        "\n",
        "    # Wait for threads to complete\n",
        "    add_thread.join()\n",
        "    remove_thread.join()\n",
        "\n",
        "    print('Final shared list:', shared_list)\n",
        "\n",
        "if __name__ == '__main__':\n",
        "    main()\n"
      ],
      "metadata": {
        "id": "nHXJN_flsaTb",
        "colab": {
          "base_uri": "https://localhost:8080/"
        },
        "outputId": "9c1166d8-7ee6-4ffe-9ffc-f0a4e785ef65"
      },
      "execution_count": 4,
      "outputs": [
        {
          "output_type": "stream",
          "name": "stdout",
          "text": [
            "Added 1\n",
            "Added 2\n",
            "Added 3\n",
            "Removed 1\n",
            "Added 4\n",
            "Added 5\n",
            "Removed 2\n",
            "Added 6\n",
            "Added 7\n",
            "Removed 3\n",
            "Added 8\n",
            "Added 9\n",
            "Removed 4\n",
            "Added 10\n",
            "Removed 5\n",
            "Removed 6\n",
            "Removed 7\n",
            "Removed 8\n",
            "Removed 9\n",
            "Removed 10\n",
            "Final shared list: []\n"
          ]
        }
      ]
    },
    {
      "cell_type": "code",
      "source": [
        "#Q5 Describe the methods and tools available in Python for safely sharing data between threads and processes.\n",
        "#ANS) Sharing Data Between Threads:\n",
        "\n",
        "# threading.Lock:\n",
        "\n",
        "#i) Purpose: Provides mutual exclusion, ensuring that only one thread can access a shared resource at a time.\n",
        "#ii) Usage: Threads acquire the lock before accessing shared data and release it afterward. This prevents other threads from accessing the data simultaneously.\n",
        "\n",
        "# threading.RLock:\n",
        "\n",
        "#i) Purpose: A reentrant lock, which allows the same thread to acquire the lock multiple times without causing a deadlock.\n",
        "#i) Usage: Useful when a thread needs to acquire the lock multiple times in nested function calls.\n",
        "\n",
        "# threading.Condition:\n",
        "\n",
        "#i) Purpose: Allows threads to wait for a condition to be met before proceeding. Often used with threading.Lock or threading.RLock.\n",
        "#ii) Usage: Threads can wait on a condition variable and be notified when the condition is met.\n",
        "\n",
        "# queue.Queue:\n",
        "\n",
        "#i) Purpose: Provides a thread-safe queue for data exchange between threads.\n",
        "#ii) Usage: Threads can use put() and get() methods to add and remove items from the queue in a thread-safe manner.\n",
        "\n",
        "# Sharing Data Between Processes:\n",
        "\n",
        "# multiprocessing.Lock:\n",
        "\n",
        "#i) Purpose: Provides mutual exclusion between processes.\n",
        "#ii) Usage: Similar to threading.Lock, but designed for inter-process synchronization.\n",
        "\n",
        "# multiprocessing.Value and multiprocessing.Array:\n",
        "\n",
        "#i) Purpose: Allows sharing data between processes. Value is for a single value, and Array is for an array of values.\n",
        "#ii) Usage: Provides a way to share simple data types and arrays between processes with synchronization.\n",
        "\n",
        "# multiprocessing.Queue:\n",
        "\n",
        "#i) Purpose: Provides a process-safe queue for communication between processes.\n",
        "#ii) Usage: Processes can use put() and get() methods to interact with the queue in a thread-safe manner.\n",
        "\n",
        "# multiprocessing.Manager:\n",
        "\n",
        "#i) Purpose: Provides a way to create managed objects that can be shared between processes.\n",
        "#ii) Usage: Allows you to create shared dictionaries, lists, and other objects."
      ],
      "metadata": {
        "id": "s0CVQ0cKsgS0"
      },
      "execution_count": null,
      "outputs": []
    },
    {
      "cell_type": "code",
      "source": [
        "#Q6 Discuss why it’s crucial to handle exceptions in concurrent programs and the techniques available for doing so.\n",
        "#ANS) Handling exceptions in concurrent programs is crucial because it helps ensure that your program remains robust, predictable, and maintainable, even when things go wrong.\n",
        "# Concurrency introduces additional complexity, and exceptions can arise from various sources, such as race conditions, deadlocks, or unexpected errors in concurrent tasks\n",
        "\n",
        "# Handling exceptions in concurrent programs is vital for maintaining stability, data integrity, and proper resource management. Key techniques include:\n",
        "\n",
        "# Using try-except blocks to catch and handle exceptions in threads, processes, and coroutines.\n",
        "# Employing logging and IPC for tracking and communicating exceptions.\n",
        "# Ensuring graceful shutdown and resource cleanup using context managers and finally blocks.\n",
        "# By implementing robust exception handling strategies, you can make your concurrent programs more resilient and easier to maintain."
      ],
      "metadata": {
        "id": "K2z6mPdjsu8G"
      },
      "execution_count": null,
      "outputs": []
    },
    {
      "cell_type": "code",
      "source": [
        "#Q7 Create a program that uses a thread pool to calculate the factorial of numbers from 1 to 10 concurrently. Use concurrent.futures.ThreadPoolExecutor to manage the threads.\n",
        "#ANS) Import necessary modules: We need concurrent.futures for thread pool management and math for factorial computation.\n",
        "\n",
        "# Define a function to compute the factorial: This function will be called by each thread.\n",
        "\n",
        "# Use ThreadPoolExecutor to manage threads: We’ll create a thread pool and submit tasks to it.\n",
        "\n",
        "# Collect results: Gather the results from the thread pool.\n",
        "\n",
        "import concurrent.futures\n",
        "import math\n",
        "\n",
        "# Function to compute factorial\n",
        "def compute_factorial(n):\n",
        "    return math.factorial(n)\n",
        "\n",
        "def main():\n",
        "    numbers = range(1, 11)  # Numbers from 1 to 10\n",
        "\n",
        "    # Use ThreadPoolExecutor to manage threads\n",
        "    with concurrent.futures.ThreadPoolExecutor(max_workers=5) as executor:\n",
        "        # Submit tasks to the thread pool\n",
        "        futures = {executor.submit(compute_factorial, num): num for num in numbers}\n",
        "\n",
        "        # Collect results as they become available\n",
        "        results = {}\n",
        "        for future in concurrent.futures.as_completed(futures):\n",
        "            num = futures[future]\n",
        "            try:\n",
        "                result = future.result()\n",
        "                results[num] = result\n",
        "            except Exception as exc:\n",
        "                print(f'{num} generated an exception: {exc}')\n",
        "\n",
        "    # Print results\n",
        "    for num in sorted(results):\n",
        "        print(f'Factorial of {num} is {results[num]}')\n",
        "\n",
        "if __name__ == '__main__':\n",
        "    main()\n"
      ],
      "metadata": {
        "id": "v_mG1wpasze-",
        "colab": {
          "base_uri": "https://localhost:8080/"
        },
        "outputId": "00a594cc-8531-470b-a598-7126ef72f5f2"
      },
      "execution_count": 1,
      "outputs": [
        {
          "output_type": "stream",
          "name": "stdout",
          "text": [
            "Factorial of 1 is 1\n",
            "Factorial of 2 is 2\n",
            "Factorial of 3 is 6\n",
            "Factorial of 4 is 24\n",
            "Factorial of 5 is 120\n",
            "Factorial of 6 is 720\n",
            "Factorial of 7 is 5040\n",
            "Factorial of 8 is 40320\n",
            "Factorial of 9 is 362880\n",
            "Factorial of 10 is 3628800\n"
          ]
        }
      ]
    },
    {
      "cell_type": "code",
      "source": [
        "#Q8 Create a Python program that uses multiprocessing.Pool to compute the square of numbers from 1 to 10 in parallel. Measure the time taken to perform this computation using a pool of different sizes (e.g., 2, 4, 8 processes).\n",
        "\n",
        "import multiprocessing\n",
        "import time\n",
        "\n",
        "# Function to compute the square of a number\n",
        "def square(n):\n",
        "    return n * n\n",
        "\n",
        "def measure_time(pool_size):\n",
        "    numbers = range(1, 11)\n",
        "\n",
        "    # Start the timer\n",
        "    start_time = time.time()\n",
        "\n",
        "    # Create a pool of workers\n",
        "    with multiprocessing.Pool(processes=pool_size) as pool:\n",
        "        # Map the function to the numbers\n",
        "        results = pool.map(square, numbers)\n",
        "\n",
        "    # Stop the timer\n",
        "    end_time = time.time()\n",
        "\n",
        "    # Print results\n",
        "    print(f\"Pool size: {pool_size}\")\n",
        "    print(\"Squares:\", results)\n",
        "    print(f\"Time taken: {end_time - start_time:.4f} seconds\")\n",
        "    print()\n",
        "\n",
        "def main():\n",
        "    # List of different pool sizes to test\n",
        "    pool_sizes = [2, 4, 8]\n",
        "\n",
        "    for pool_size in pool_sizes:\n",
        "        measure_time(pool_size)\n",
        "\n",
        "if __name__ == '__main__':\n",
        "    main()\n"
      ],
      "metadata": {
        "id": "0HETY8Fhs422",
        "colab": {
          "base_uri": "https://localhost:8080/"
        },
        "outputId": "11c94be0-71ed-4b38-fd32-11b0448779b6"
      },
      "execution_count": 2,
      "outputs": [
        {
          "output_type": "stream",
          "name": "stdout",
          "text": [
            "Pool size: 2\n",
            "Squares: [1, 4, 9, 16, 25, 36, 49, 64, 81, 100]\n",
            "Time taken: 0.0343 seconds\n",
            "\n",
            "Pool size: 4\n",
            "Squares: [1, 4, 9, 16, 25, 36, 49, 64, 81, 100]\n",
            "Time taken: 0.0425 seconds\n",
            "\n",
            "Pool size: 8\n",
            "Squares: [1, 4, 9, 16, 25, 36, 49, 64, 81, 100]\n",
            "Time taken: 0.1023 seconds\n",
            "\n"
          ]
        }
      ]
    }
  ]
}